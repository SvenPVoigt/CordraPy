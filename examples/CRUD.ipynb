{
 "cells": [
  {
   "cell_type": "code",
   "execution_count": 1,
   "metadata": {},
   "outputs": [],
   "source": [
    "from cordra import Engine, CordraObject\n",
    "from io import BytesIO\n",
    "from PIL import Image\n",
    "import json"
   ]
  },
  {
   "cell_type": "code",
   "execution_count": 10,
   "metadata": {},
   "outputs": [
    {
     "data": {
      "text/plain": [
       "'Are the remote and the local object the same? True'"
      ]
     },
     "execution_count": 10,
     "metadata": {},
     "output_type": "execute_result"
    }
   ],
   "source": [
    "a = {'type': 'Document', 'awesome': 'test', 'hello': 'world'}\n",
    "b = dict()\n",
    "b[\"content\"] = {\"type\": \"Document\", \"awesome\": \"test\", \"hello\": \"world\"}\n",
    "\n",
    "f\"Are the remote and the local object the same? {a == b['content']}\""
   ]
  },
  {
   "cell_type": "code",
   "execution_count": 18,
   "metadata": {},
   "outputs": [
    {
     "data": {
      "text/plain": [
       "False"
      ]
     },
     "execution_count": 18,
     "metadata": {},
     "output_type": "execute_result"
    }
   ],
   "source": [
    "{\"a\"} in {\"a\", \"b\", \"c\", \"d\"}"
   ]
  },
  {
   "cell_type": "code",
   "execution_count": 32,
   "metadata": {},
   "outputs": [
    {
     "ename": "TypeError",
     "evalue": "bad operand type for unary -: 'str'",
     "output_type": "error",
     "traceback": [
      "\u001b[0;31m---------------------------------------------------------------------------\u001b[0m",
      "\u001b[0;31mTypeError\u001b[0m                                 Traceback (most recent call last)",
      "\u001b[0;32m<ipython-input-32-5ed441e28e22>\u001b[0m in \u001b[0;36m<module>\u001b[0;34m\u001b[0m\n\u001b[0;32m----> 1\u001b[0;31m \u001b[0;34m{\u001b[0m\u001b[0;34m\"a\"\u001b[0m\u001b[0;34m:\u001b[0m \u001b[0;34m\"A\"\u001b[0m\u001b[0;34m,\u001b[0m \u001b[0;34m\"b\"\u001b[0m\u001b[0;34m:\u001b[0m \u001b[0;34m\"B\"\u001b[0m\u001b[0;34m,\u001b[0m \u001b[0;34m\"c\"\u001b[0m\u001b[0;34m:\u001b[0m \u001b[0;34m\"C\"\u001b[0m\u001b[0;34m}\u001b[0m\u001b[0;34m[\u001b[0m\u001b[0;34m-\u001b[0m\u001b[0;34m\"a\"\u001b[0m\u001b[0;34m]\u001b[0m\u001b[0;34m\u001b[0m\u001b[0;34m\u001b[0m\u001b[0m\n\u001b[0m",
      "\u001b[0;31mTypeError\u001b[0m: bad operand type for unary -: 'str'"
     ]
    }
   ],
   "source": [
    "{\"a\": \"A\", \"b\": \"B\", \"c\": \"C\"}[-\"a\"]"
   ]
  },
  {
   "cell_type": "code",
   "execution_count": 17,
   "metadata": {},
   "outputs": [
    {
     "data": {
      "text/plain": [
       "True"
      ]
     },
     "execution_count": 17,
     "metadata": {},
     "output_type": "execute_result"
    }
   ],
   "source": [
    "all(e in {\"a\", \"b\", \"c\", \"d\"} for e in {\"a\", \"b\", \"c\"})"
   ]
  },
  {
   "cell_type": "code",
   "execution_count": 30,
   "metadata": {},
   "outputs": [
    {
     "data": {
      "text/plain": [
       "1"
      ]
     },
     "execution_count": 30,
     "metadata": {},
     "output_type": "execute_result"
    }
   ],
   "source": [
    "from enum import Enum\n",
    "from pydantic import BaseModel\n",
    "from typing import Dict, Any\n",
    "\n",
    "allKeys = \"a b c d\".split(\" \")\n",
    "allKeys = Enum(\"allKeys\", zip(allKeys, allKeys))\n",
    "\n",
    "class Test(BaseModel):\n",
    "    the_map: Dict[allKeys, Any]\n",
    "\n",
    "Test(the_map={\"a\": 1, \"b\": 2}).the_map[allKeys.a] # this works\n",
    "Test(the_map={\"a\": 1, \"b\": 2}).the_map[\"a\"] # this does not work"
   ]
  },
  {
   "cell_type": "code",
   "execution_count": null,
   "metadata": {},
   "outputs": [],
   "source": []
  },
  {
   "cell_type": "code",
   "execution_count": 2,
   "metadata": {},
   "outputs": [
    {
     "name": "stdout",
     "output_type": "stream",
     "text": [
      "https://localhost:8443/auth/token\n",
      "<class 'cordra.cordra.CordraObject'> Document\n",
      "Test JSON object\n",
      "{\"type\": \"Document\", \"awesome\": \"test\", \"notyetseen\": \"spooky\", \"hello\": \"world\"}\n",
      "{'id': 'test/fadb027b350dbb356a3a', 'type': 'Document', 'content': {'id': 'test/fadb027b350dbb356a3a', 'content': '{\"type\": \"Document\", \"awesome\": \"test\", \"notyetseen\": \"spooky\", \"hello\": \"world\"}'}, 'metadata': {'createdOn': 1616712273713, 'createdBy': 'test/dd860110a62b19214c4e', 'modifiedOn': 1616712273713, 'modifiedBy': 'test/dd860110a62b19214c4e', 'txnId': 1616712273713012}}\n",
      "\n",
      "\n",
      "Test JSON object with JSON payload\n",
      "{\"type\": \"Document\", \"awesome\": \"test\", \"notyetseen\": \"spooky\", \"hello\": \"world\"}\n",
      "{'test.json': ('test.json', b'{\"a\": \"a\", \"b\": \"b\"}')}\n",
      "{'id': 'test/c33ebaae501b5c06ce5b', 'type': 'Document', 'content': {'id': 'test/c33ebaae501b5c06ce5b', 'type': 'Document', 'awesome': 'test', 'notyetseen': 'spooky', 'hello': 'world'}, 'metadata': {'createdOn': 1616712273751, 'createdBy': 'test/dd860110a62b19214c4e', 'modifiedOn': 1616712273751, 'modifiedBy': 'test/dd860110a62b19214c4e', 'txnId': 1616712273751013}, 'payloads': [{'name': 'test.json', 'filename': 'test.json', 'size': 20}]}\n"
     ]
    },
    {
     "data": {
      "image/png": "[encoded data removed]",
      "text/plain": [
       "<PIL.Image.Image image mode=L size=11x11 at 0x7F0FC8865D60>"
      ]
     },
     "execution_count": 2,
     "metadata": {},
     "output_type": "execute_result"
    }
   ],
   "source": [
    "engine = Engine(host=\"https://localhost:8443/\", credentials_file=\"../secretlogin.json\", verify=False, params={\"full\": True})\n",
    "\n",
    "test = CordraObject(type=\"Document\", awesome=\"test\", notyetseen=\"spooky\")\n",
    "print(type(test), test.type)\n",
    "test.hello = \"world\"\n",
    "\n",
    "print( \"Test JSON object\")\n",
    "print( test.json() )\n",
    "print( engine.create(test) )\n",
    "\n",
    "test.add(\"test.json\", json.dumps({\"a\": \"a\", \"b\":\"b\"}).encode())\n",
    "\n",
    "print( \"\\n\" )\n",
    "print( \"Test JSON object with JSON payload\")\n",
    "print( test.json() )\n",
    "print( test._payloads )\n",
    "\n",
    "print( engine.create(test) )\n",
    "\n",
    "stream = BytesIO()\n",
    "A = Image.radial_gradient(\"L\").resize((11,11))\n",
    "A"
   ]
  },
  {
   "cell_type": "code",
   "execution_count": 3,
   "metadata": {},
   "outputs": [
    {
     "name": "stdout",
     "output_type": "stream",
     "text": [
      "\n",
      "\n",
      "Test JSON object with Image payload\n",
      "{\"type\": \"Document\", \"awesome\": \"test\", \"notyetseen\": \"spooky\", \"hello\": \"world\"}\n",
      "{'test.json': ('test.json', b'{\"a\": \"a\", \"b\": \"b\"}'), 'radial.png': ('radial.png', b\"\\x89PNG\\r\\n\\x1a\\n\\x00\\x00\\x00\\rIHDR\\x00\\x00\\x00\\x0b\\x00\\x00\\x00\\x0b\\x08\\x00\\x00\\x00\\x00\\x8c\\xc7(\\xfa\\x00\\x00\\x00xIDATx\\x9c-\\xcd[\\x0e\\x83 \\x14\\x05\\xc0\\xdbp\\x08*\\x82Q\\xa0\\xfb\\xdf\\\\_\\xa0&\\x90\\xa0\\xa6B\\xdb\\x9f\\xce\\x06\\xe6\\xf2\\x0cK\\xdc*k\\x07\\xe3\\x10^~\\xcd\\x85\\xf5\\xb9\\x10\\x16\\x7f\\x0f\\xf1\\xe4z' \\xae\\xe11\\x1f\\xc2R#\\xb1\\xe54\\xdf\\x92\\xa2n\\xdcP\\xcb\\xfbH\\xfek\\xceR\\xc1\\x18\\x17\\xea\\xa3\\x04\\x07C\\xdbkKFX-[\\x0cy\\xa7\\xee\\xe4\\xdaM\\x03L\\xa1f,\\x90\\xd3\\xd5\\xc0\\x11\\xe4\\xff\\xfd\\x01\\xcd\\xa54s 7\\xb8T\\x00\\x00\\x00\\x00IEND\\xaeB`\\x82\")}\n",
      "{'id': 'test/4a191be66910cbfd0062', 'type': 'Document', 'content': {'id': 'test/4a191be66910cbfd0062', 'type': 'Document', 'awesome': 'test', 'notyetseen': 'spooky', 'hello': 'world'}, 'metadata': {'createdOn': 1616712273801, 'createdBy': 'test/dd860110a62b19214c4e', 'modifiedOn': 1616712273801, 'modifiedBy': 'test/dd860110a62b19214c4e', 'txnId': 1616712273801014}, 'payloads': [{'name': 'test.json', 'filename': 'test.json', 'size': 20}, {'name': 'radial.png', 'filename': 'radial.png', 'size': 177}]}\n"
     ]
    }
   ],
   "source": [
    "A.save(stream, format=\"PNG\")\n",
    "test.add(\"radial.png\", stream.getvalue())\n",
    "\n",
    "print( \"\\n\" )\n",
    "print( \"Test JSON object with Image payload\")\n",
    "print( test.json() )\n",
    "print( test._payloads )\n",
    "\n",
    "r = engine.create(test)\n",
    "print( r )"
   ]
  },
  {
   "cell_type": "code",
   "execution_count": 5,
   "metadata": {},
   "outputs": [
    {
     "name": "stdout",
     "output_type": "stream",
     "text": [
      "Read Tests\n",
      "test.json\n",
      "Type of r: <class 'bytes'>\n",
      "radial.png\n",
      "Type of r: <class 'bytes'>\n",
      "{\n",
      "  \"type\": \"Document\",\n",
      "  \"payloads\": [\n",
      "    {\n",
      "      \"name\": \"test.json\",\n",
      "      \"filename\": \"test.json\",\n",
      "      \"size\": 20\n",
      "    },\n",
      "    {\n",
      "      \"name\": \"radial.png\",\n",
      "      \"filename\": \"radial.png\",\n",
      "      \"size\": 177\n",
      "    }\n",
      "  ],\n",
      "  \"id\": \"test/4a191be66910cbfd0062\",\n",
      "  \"metadata\": {\n",
      "    \"createdOn\": 1616712273801,\n",
      "    \"createdBy\": \"test/dd860110a62b19214c4e\",\n",
      "    \"modifiedOn\": 1616712273801,\n",
      "    \"modifiedBy\": \"test/dd860110a62b19214c4e\",\n",
      "    \"txnId\": 1616712273801014\n",
      "  },\n",
      "  \"content\": {\n",
      "    \"id\": \"test/4a191be66910cbfd0062\",\n",
      "    \"type\": \"Document\",\n",
      "    \"awesome\": \"test\",\n",
      "    \"notyetseen\": \"spooky\",\n",
      "    \"hello\": \"world\"\n",
      "  }\n",
      "}\n",
      "b\"\\x89PNG\\r\\n\\x1a\\n\\x00\\x00\\x00\\rIHDR\\x00\\x00\\x00\\x0b\\x00\\x00\\x00\\x0b\\x08\\x00\\x00\\x00\\x00\\x8c\\xc7(\\xfa\\x00\\x00\\x00xIDATx\\x9c-\\xcd[\\x0e\\x83 \\x14\\x05\\xc0\\xdbp\\x08*\\x82Q\\xa0\\xfb\\xdf\\\\_\\xa0&\\x90\\xa0\\xa6B\\xdb\\x9f\\xce\\x06\\xe6\\xf2\\x0cK\\xdc*k\\x07\\xe3\\x10^~\\xcd\\x85\\xf5\\xb9\\x10\\x16\\x7f\\x0f\\xf1\\xe4z' \\xae\\xe11\\x1f\\xc2R#\\xb1\\xe54\\xdf\\x92\\xa2n\\xdcP\\xcb\\xfbH\\xfek\\xceR\\xc1\\x18\\x17\\xea\\xa3\\x04\\x07C\\xdbkKFX-[\\x0cy\\xa7\\xee\\xe4\\xdaM\\x03L\\xa1f,\\x90\\xd3\\xd5\\xc0\\x11\\xe4\\xff\\xfd\\x01\\xcd\\xa54s 7\\xb8T\\x00\\x00\\x00\\x00IEND\\xaeB`\\x82\"\n"
     ]
    }
   ],
   "source": [
    "print( \"Read Tests\")\n",
    "\n",
    "obj = engine.read( r[\"id\"], getall=True )\n",
    "\n",
    "print(json.dumps(obj.dict(), indent=2))\n",
    "\n",
    "print(obj.get(\"radial.png\"))"
   ]
  },
  {
   "cell_type": "code",
   "execution_count": 6,
   "metadata": {},
   "outputs": [
    {
     "data": {
      "text/plain": [
       "b\"\\x89PNG\\r\\n\\x1a\\n\\x00\\x00\\x00\\rIHDR\\x00\\x00\\x00\\x0b\\x00\\x00\\x00\\x0b\\x08\\x00\\x00\\x00\\x00\\x8c\\xc7(\\xfa\\x00\\x00\\x00xIDATx\\x9c-\\xcd[\\x0e\\x83 \\x14\\x05\\xc0\\xdbp\\x08*\\x82Q\\xa0\\xfb\\xdf\\\\_\\xa0&\\x90\\xa0\\xa6B\\xdb\\x9f\\xce\\x06\\xe6\\xf2\\x0cK\\xdc*k\\x07\\xe3\\x10^~\\xcd\\x85\\xf5\\xb9\\x10\\x16\\x7f\\x0f\\xf1\\xe4z' \\xae\\xe11\\x1f\\xc2R#\\xb1\\xe54\\xdf\\x92\\xa2n\\xdcP\\xcb\\xfbH\\xfek\\xceR\\xc1\\x18\\x17\\xea\\xa3\\x04\\x07C\\xdbkKFX-[\\x0cy\\xa7\\xee\\xe4\\xdaM\\x03L\\xa1f,\\x90\\xd3\\xd5\\xc0\\x11\\xe4\\xff\\xfd\\x01\\xcd\\xa54s 7\\xb8T\\x00\\x00\\x00\\x00IEND\\xaeB`\\x82\""
      ]
     },
     "execution_count": 6,
     "metadata": {},
     "output_type": "execute_result"
    }
   ],
   "source": [
    "test = obj.get(\"radial.png\")\n",
    "test"
   ]
  },
  {
   "cell_type": "code",
   "execution_count": 7,
   "metadata": {},
   "outputs": [
    {
     "data": {
      "image/png": "[encoded data removed]",
      "text/plain": [
       "<PIL.PngImagePlugin.PngImageFile image mode=L size=11x11 at 0x7F0FC8865EE0>"
      ]
     },
     "execution_count": 7,
     "metadata": {},
     "output_type": "execute_result"
    }
   ],
   "source": [
    "Image.open(BytesIO(test))"
   ]
  },
  {
   "cell_type": "code",
   "execution_count": null,
   "metadata": {},
   "outputs": [],
   "source": []
  }
 ],
 "metadata": {
  "kernelspec": {
   "display_name": "Python 3",
   "language": "python",
   "name": "python3"
  },
  "language_info": {
   "codemirror_mode": {
    "name": "ipython",
    "version": 3
   },
   "file_extension": ".py",
   "mimetype": "text/x-python",
   "name": "python",
   "nbconvert_exporter": "python",
   "pygments_lexer": "ipython3",
   "version": "3.8.5"
  }
 },
 "nbformat": 4,
 "nbformat_minor": 4
}
