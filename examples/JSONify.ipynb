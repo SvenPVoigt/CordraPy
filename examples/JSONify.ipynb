{
 "cells": [
  {
   "cell_type": "code",
   "execution_count": 1,
   "metadata": {},
   "outputs": [],
   "source": [
    "import requests\n",
    "\n",
    "r = requests.get('https://api.materialhub.org/objects/?query=type:\"Schema\"')\n",
    "\n",
    "r = r.json()"
   ]
  },
  {
   "cell_type": "code",
   "execution_count": 2,
   "metadata": {},
   "outputs": [],
   "source": [
    "schemas = dict()\n",
    "\n",
    "for schema in r['results']:\n",
    "    schema = schema['content']\n",
    "    schemas[schema['name']] = schema['schema']"
   ]
  },
  {
   "cell_type": "code",
   "execution_count": 3,
   "metadata": {
    "scrolled": true
   },
   "outputs": [
    {
     "data": {
      "text/plain": [
       "dict_keys(['File', 'Instrument', 'Dataset', 'MaterialProperty', 'debug', 'DefinedTermSet', 'Collection', 'DataCatalog', 'DataFormat', 'TabularData', 'ProcessHistory', 'ProcessProtocol', 'Person', 'SoftwareApplication', 'Place', 'Group', 'Config', 'TabularDataPackage', 'SoftwareSourceCode', 'InstrumentAction', 'Study', 'Vega', 'Material', 'Project', 'vega_test', 'User', 'Comment', 'UnitOfMeasurement', 'Organization', 'Experiment', 'Citation', 'DutyAction', 'DefinedTerm'])"
      ]
     },
     "execution_count": 3,
     "metadata": {},
     "output_type": "execute_result"
    }
   ],
   "source": [
    "schemas.keys()"
   ]
  },
  {
   "cell_type": "code",
   "execution_count": 6,
   "metadata": {},
   "outputs": [
    {
     "data": {
      "text/plain": [
       "'File, Instrument, Dataset, MaterialProperty, debug, DefinedTermSet, Collection, DataCatalog, DataFormat, TabularData, ProcessHistory, ProcessProtocol, Person, SoftwareApplication, Place, Group, Config, TabularDataPackage, SoftwareSourceCode, InstrumentAction, Study, Vega, Material, Project, vega_test, User, Comment, UnitOfMeasurement, Organization, Experiment, Citation, DutyAction, DefinedTerm'"
      ]
     },
     "execution_count": 6,
     "metadata": {},
     "output_type": "execute_result"
    }
   ],
   "source": [
    "', '.join( list(schemas.keys()) )"
   ]
  },
  {
   "cell_type": "code",
   "execution_count": 21,
   "metadata": {},
   "outputs": [
    {
     "data": {
      "text/html": [
       "<div id=\"60f750b4-db02-44fa-b39e-8fe8acfd211e\" style=\"height: 600px; width:100%;\"></div>"
      ]
     },
     "metadata": {},
     "output_type": "display_data"
    },
    {
     "data": {
      "application/javascript": [
       "\n",
       "        require([\"https://rawgit.com/caldwell/renderjson/master/renderjson.js\"], function() {\n",
       "          renderjson.set_show_to_level(1)\n",
       "          document.getElementById('60f750b4-db02-44fa-b39e-8fe8acfd211e').appendChild(renderjson({\"$schema\": \"http://json-schema.org/draft-04/schema#\", \"type\": \"object\", \"title\": \"ProcessHistory\", \"description\": \"This schema is for describing the processing history of a material.\", \"required\": [\"@id\", \"@context\", \"@type\"], \"definitions\": {\"QuantitativeValue\": {\"type\": \"object\", \"properties\": {\"@type\": {\"type\": \"string\", \"default\": \"QuantitativeValue\"}, \"name\": {\"type\": \"string\", \"title\": \"Name\"}, \"value\": {\"title\": \"Value\"}, \"unitText\": {\"title\": \"Unit Text\", \"type\": \"string\"}, \"unitCode\": {\"title\": \"Unit Code\", \"type\": \"string\", \"cordra\": {\"type\": {\"handleReference\": {\"types\": [\"UnitOfMeasurement\"]}}}}}}, \"measurementTechnique\": {\"type\": \"array\", \"title\": \"Synthesis/Measurement/Computational Technique or Instrument/Software Used\", \"uniqueItems\": true, \"items\": {\"type\": \"string\", \"title\": \"Referenced Item\", \"cordra\": {\"type\": {\"handleReference\": {\"types\": [\"DefinedTerm\", \"Instrument\", \"SoftwareApplication\", \"SoftwareSourceCode\"]}}}}}, \"variableMeasured\": {\"type\": \"object\", \"properties\": {\"@type\": {\"type\": \"string\", \"default\": \"PropertyValue\"}, \"name\": {\"type\": \"string\", \"title\": \"Name\"}, \"propertyID\": {\"title\": \"Property IDs\", \"type\": \"array\", \"uniqueItems\": true, \"items\": {\"title\": \"Property ID\", \"type\": \"string\", \"cordra\": {\"type\": {\"handleReference\": {\"types\": [\"DefinedTerm\"]}}}}}, \"value\": {\"title\": \"Value\"}, \"valueID\": {\"title\": \"Value IDs\", \"type\": \"array\", \"description\": \"A commonly used identifier for the value represented by the property. This can be used when the value of the property is a DefinedTerm.\", \"uniqueItems\": true, \"items\": {\"title\": \"Value ID\", \"type\": \"string\", \"cordra\": {\"type\": {\"handleReference\": {\"types\": [\"DefinedTerm\"]}}}}}, \"unitText\": {\"title\": \"Unit Text\", \"oneOf\": [{\"type\": \"string\"}, {\"type\": \"null\"}]}, \"unitCode\": {\"title\": \"Unit Code\", \"type\": \"string\", \"cordra\": {\"type\": {\"handleReference\": {\"types\": [\"UnitOfMeasurement\"]}}}}, \"valueReference\": {\"type\": \"array\", \"title\": \"Reference Values\", \"uniqueItems\": true, \"items\": {\"type\": \"object\", \"title\": \"Reference Value\", \"properties\": {\"@type\": {\"type\": \"string\", \"default\": \"PropertyValue\"}, \"name\": {\"type\": \"string\", \"title\": \"Name\"}, \"propertyID\": {\"title\": \"Property ID/Name\", \"type\": \"string\", \"cordra\": {\"type\": {\"handleReference\": {\"types\": [\"DefinedTerm\"]}}}}, \"value\": {\"title\": \"Value\"}, \"valueID\": {\"title\": \"Value IDs\", \"type\": \"array\", \"description\": \"A commonly used identifier for the value represented by the property. This can be used when the value of the property is a DefinedTerm.\", \"uniqueItems\": true, \"items\": {\"title\": \"Value ID\", \"type\": \"string\", \"cordra\": {\"type\": {\"handleReference\": {\"types\": [\"DefinedTerm\"]}}}}}, \"unitText\": {\"title\": \"Unit Text\", \"type\": \"string\"}, \"unitCode\": {\"title\": \"Unit Code\", \"type\": \"string\", \"cordra\": {\"type\": {\"handleReference\": {\"types\": [\"UnitOfMeasurement\"]}}}}}}}, \"variableMeasured\": {\"type\": \"array\", \"title\": \"Variables Measured (nested)\", \"uniqueItems\": true, \"items\": {\"title\": \"Complex/Multidimensional Quantity\", \"$ref\": \"#/definitions/variableMeasured\"}}, \"parameterControlled\": {\"type\": \"array\", \"title\": \"Parameters Controlled (nested)\", \"uniqueItems\": true, \"items\": {\"title\": \"Parameter Controlled\", \"$ref\": \"#/definitions/variableMeasured\"}}, \"conditionObserved\": {\"type\": \"array\", \"title\": \"Conditions Observed (nested)\", \"uniqueItems\": true, \"items\": {\"title\": \"Condition Observed\", \"$ref\": \"#/definitions/variableMeasured\"}}}}, \"Process\": {\"type\": \"object\", \"properties\": {\"@type\": {\"type\": \"array\", \"default\": [\"HowToStep\", \"mat:Process\"]}, \"name\": {\"type\": \"string\", \"title\": \"Name\", \"cordra\": {\"preview\": {\"showInPreview\": true, \"isPrimary\": true}}}, \"about\": {\"type\": \"array\", \"title\": \"About\", \"description\": \"The subject matter of this thing (e.g., DefinedTerm, Project, Material, Experiment, Study, etc.)\", \"uniqueItems\": true, \"items\": {\"type\": \"string\", \"title\": \"Referenced Item\", \"cordra\": {\"type\": {\"handleReference\": {\"types\": []}}}}}, \"keywords\": {\"type\": \"array\", \"title\": \"Keywords\", \"description\": \"This is for user-defined terms.\", \"uniqueItems\": true, \"items\": {\"type\": \"string\", \"title\": \"Keyword\"}}, \"text\": {\"title\": \"Process/Step Text\", \"type\": \"string\", \"format\": \"textarea\"}, \"isBasedOn\": {\"type\": \"array\", \"title\": \"Process is based on\", \"uniqueItems\": true, \"items\": {\"type\": \"string\", \"title\": \"Process\", \"cordra\": {\"type\": {\"handleReference\": {\"types\": [\"ProcessProtocol\", \"ProcessHistory\"]}}}}}, \"hasPart\": {\"type\": \"array\", \"title\": \"Subprocess\", \"uniqueItems\": true, \"items\": {\"type\": \"string\", \"title\": \"Subprocess\", \"cordra\": {\"type\": {\"handleReference\": {\"types\": [\"ProcessProtocol\", \"ProcessHistory\"]}}}}}, \"isPartOf\": {\"type\": \"array\", \"title\": \"Parent Process and Collections\", \"uniqueItems\": true, \"items\": {\"type\": \"string\", \"title\": \"Parent Process or Collection\", \"cordra\": {\"type\": {\"handleReference\": {\"types\": [\"Collection\", \"ProcessProtocol\", \"ProcessHistory\"]}}}}}, \"supply\": {\"type\": \"array\", \"title\": \"Supply/Starting Materials\", \"uniqueItems\": true, \"items\": {\"type\": \"object\", \"title\": \"Supply/Starting Material\", \"properties\": {\"@type\": {\"type\": \"array\", \"default\": [\"HowToSupply\", \"mat:Material\"]}, \"identifier\": {\"type\": \"string\", \"cordra\": {\"type\": {\"handleReference\": {\"types\": [\"Material\"]}}}}, \"name\": {\"type\": \"string\", \"title\": \"Name\"}, \"requiredQuantity\": {\"$ref\": \"#/definitions/QuantitativeValue\"}}}}, \"variableMeasured\": {\"type\": \"array\", \"title\": \"Variables Measured\", \"uniqueItems\": true, \"items\": {\"title\": \"Variable Measured\", \"$ref\": \"#/definitions/variableMeasured\"}}, \"parameterControlled\": {\"type\": \"array\", \"title\": \"Parameters Controlled\", \"uniqueItems\": true, \"items\": {\"title\": \"Parameter Controlled\", \"$ref\": \"#/definitions/variableMeasured\"}}, \"conditionObserved\": {\"type\": \"array\", \"title\": \"Conditions Observed\", \"uniqueItems\": true, \"items\": {\"title\": \"Condition Observed\", \"$ref\": \"#/definitions/variableMeasured\"}}, \"workExample\": {\"type\": \"array\", \"title\": \"Resulting Materials\", \"uniqueItems\": true, \"items\": {\"type\": \"string\", \"title\": \"Resulting Material\", \"cordra\": {\"type\": {\"handleReference\": {\"types\": [\"Material\"]}}}}}, \"measurementTechnique\": {\"$ref\": \"#/definitions/measurementTechnique\"}, \"tool\": {\"type\": \"array\", \"title\": \"Tools used to perform the process\", \"uniqueItems\": true, \"items\": {\"type\": \"string\", \"title\": \"Tools used to perform the process\", \"cordra\": {\"type\": {\"handleReference\": {\"types\": [\"DefinedTerm\", \"Instrument\", \"SoftwareApplication\", \"SoftwareSourceCode\"]}}}}}, \"estimatedCost\": {\"type\": \"object\", \"title\": \"MonetaryAmount\", \"properties\": {\"@type\": {\"type\": \"string\", \"default\": \"MonetaryAmount\"}, \"currency\": {\"type\": \"string\"}, \"value\": {\"type\": \"number\"}}}, \"performTime\": {\"type\": \"string\"}, \"prepTime\": {\"type\": \"string\"}, \"totalTime\": {\"type\": \"string\"}, \"yield\": {\"$ref\": \"#/definitions/QuantitativeValue\"}, \"position\": {\"title\": \"Step Number\", \"type\": \"number\"}, \"step\": {\"type\": \"array\", \"title\": \"Process Steps\", \"uniqueItems\": true, \"items\": {\"title\": \"Process Step\", \"$ref\": \"#/definitions/Process\"}}}}}, \"properties\": {\"@context\": {\"type\": \"array\", \"default\": [\"http://schema.org/\", {\"mat\": \"https://pages.nist.gov/material-schema/\", \"measurementTechnique\": \"mat:measurementTechnique\", \"parameterControlled\": \"mat:parameterControlled\", \"variableMeasured\": \"mat:variableMeasured\"}]}, \"@type\": {\"type\": \"array\", \"default\": [\"HowTo\", \"mat:ProcessHistory\"]}, \"@id\": {\"type\": \"string\", \"cordra\": {\"type\": {\"autoGeneratedField\": \"handle\"}}}, \"identifier\": {\"type\": \"array\", \"title\": \"Identifers\", \"items\": {\"type\": \"object\", \"title\": \"Identifer\", \"properties\": {\"@type\": {\"type\": \"string\", \"default\": \"PropertyValue\"}, \"propertyID\": {\"title\": \"Property IDs\", \"type\": \"array\", \"uniqueItems\": true, \"items\": {\"title\": \"Property ID\", \"type\": \"string\", \"cordra\": {\"type\": {\"handleReference\": {\"types\": [\"DefinedTerm\"]}}}}}, \"name\": {\"title\": \"Identifier Type/Name\", \"type\": \"string\"}, \"value\": {\"title\": \"Identifier Value\"}, \"url\": {\"title\": \"Identifier URL\", \"type\": \"string\"}}}}, \"name\": {\"type\": \"string\", \"title\": \"Name\", \"cordra\": {\"preview\": {\"showInPreview\": true, \"isPrimary\": true}}}, \"alternateName\": {\"type\": \"string\", \"title\": \"Alternate Name\", \"cordra\": {\"preview\": {\"showInPreview\": true}}}, \"description\": {\"type\": \"string\", \"title\": \"Description\", \"format\": \"textarea\", \"cordra\": {\"preview\": {\"showInPreview\": true}}}, \"url\": {\"type\": \"string\", \"title\": \"URL\"}, \"image\": {\"type\": \"array\", \"title\": \"Image URLs\", \"uniqueItems\": true, \"items\": {\"type\": \"string\", \"title\": \"Image URL\"}}, \"subjectOf\": {\"type\": \"array\", \"title\": \"Subject Of\", \"description\": \"A CreativeWork about this Thing (e.g., Linked Materials, Datasets, etc.)\", \"uniqueItems\": true, \"items\": {\"type\": \"string\", \"title\": \"Referenced Item\", \"cordra\": {\"type\": {\"handleReference\": {\"types\": []}}}}}, \"about\": {\"type\": \"array\", \"title\": \"About\", \"description\": \"The subject matter of this thing (e.g., DefinedTerm, Project, Material, Experiment, Study, etc.)\", \"uniqueItems\": true, \"items\": {\"type\": \"string\", \"title\": \"Referenced Item\", \"cordra\": {\"type\": {\"handleReference\": {\"types\": []}}}}}, \"keywords\": {\"type\": \"array\", \"title\": \"Keywords\", \"description\": \"This is for user-defined terms.\", \"uniqueItems\": true, \"items\": {\"type\": \"string\", \"title\": \"Keyword\"}}, \"citation\": {\"type\": \"array\", \"title\": \"Citations\", \"uniqueItems\": true, \"items\": {\"type\": \"string\", \"title\": \"Citation\", \"cordra\": {\"type\": {\"handleReference\": {\"types\": []}}}}}, \"funder\": {\"type\": \"array\", \"title\": \"Funders\", \"uniqueItems\": true, \"items\": {\"type\": \"string\", \"title\": \"Funder\", \"cordra\": {\"type\": {\"handleReference\": {\"types\": [\"User\", \"Person\", \"Organization\"]}}}}}, \"accountablePerson\": {\"type\": \"array\", \"title\": \"Accountable Persons\", \"uniqueItems\": true, \"items\": {\"type\": \"string\", \"title\": \"Accountable Person\", \"cordra\": {\"type\": {\"handleReference\": {\"types\": [\"User\", \"Person\"]}}}}}, \"author\": {\"type\": \"array\", \"title\": \"Authors\", \"uniqueItems\": true, \"items\": {\"type\": \"string\", \"title\": \"Author\", \"cordra\": {\"type\": {\"handleReference\": {\"types\": [\"User\", \"Person\", \"Organization\"]}}}}}, \"editor\": {\"type\": \"array\", \"title\": \"Editors\", \"uniqueItems\": true, \"items\": {\"type\": \"string\", \"title\": \"Editor\", \"cordra\": {\"type\": {\"handleReference\": {\"types\": [\"User\", \"Person\"]}}}}}, \"creator\": {\"type\": \"array\", \"title\": \"Creators\", \"uniqueItems\": true, \"items\": {\"type\": \"string\", \"title\": \"Creator\", \"cordra\": {\"type\": {\"handleReference\": {\"types\": [\"User\", \"Person\", \"Organization\"]}}}}}, \"contributor\": {\"type\": \"array\", \"title\": \"Contributors\", \"uniqueItems\": true, \"items\": {\"type\": \"string\", \"title\": \"Contributor\", \"cordra\": {\"type\": {\"handleReference\": {\"types\": [\"User\", \"Person\", \"Organization\"]}}}}}, \"provider\": {\"type\": \"array\", \"title\": \"Providers\", \"uniqueItems\": true, \"items\": {\"type\": \"string\", \"title\": \"Provider\", \"cordra\": {\"type\": {\"handleReference\": {\"types\": [\"User\", \"Person\", \"Organization\"]}}}}}, \"publisher\": {\"type\": \"array\", \"title\": \"Publishers\", \"uniqueItems\": true, \"items\": {\"type\": \"string\", \"title\": \"Publisher\", \"cordra\": {\"type\": {\"handleReference\": {\"types\": [\"User\", \"Person\", \"Organization\"]}}}}}, \"copyrightHolder\": {\"type\": \"array\", \"title\": \"Copyright Holders\", \"uniqueItems\": true, \"items\": {\"type\": \"string\", \"title\": \"Copyright Holder\", \"cordra\": {\"type\": {\"handleReference\": {\"types\": [\"User\", \"Person\", \"Organization\"]}}}}}, \"license\": {\"type\": \"string\", \"title\": \"License\"}, \"thumbnailUrl\": {\"type\": \"array\", \"title\": \"Thumbnail URLs\", \"uniqueItems\": true, \"items\": {\"type\": \"string\", \"title\": \"Thumbnail URL\"}}, \"dateCreated\": {\"title\": \"Date Created\", \"description\": \"A date value in ISO 8601 date format, e.g.: YYYY-MM-DD, YYYY-MM-DDThh:mm:ssTZD\", \"type\": \"string\"}, \"dateModified\": {\"title\": \"Date Modified\", \"description\": \"A date value in ISO 8601 date format, e.g.: YYYY-MM-DD, YYYY-MM-DDThh:mm:ssTZD\", \"type\": \"string\"}, \"datePublished\": {\"title\": \"Date Published\", \"description\": \"A date value in ISO 8601 date format, e.g.: YYYY-MM-DD, YYYY-MM-DDThh:mm:ssTZD\", \"type\": \"string\"}, \"comment\": {\"type\": \"array\", \"title\": \"Comments\", \"uniqueItems\": true, \"items\": {\"type\": \"string\", \"title\": \"Comment\", \"cordra\": {\"type\": {\"handleReference\": {\"types\": [\"Comment\"]}}}}}, \"spatial\": {\"type\": \"array\", \"title\": \"Specific Spatial Location\", \"uniqueItems\": true, \"items\": {\"type\": \"string\", \"title\": \"Place\", \"cordra\": {\"type\": {\"handleReference\": {\"types\": [\"Place\"]}}}}}, \"text\": {\"title\": \"Process/Step Text\", \"type\": \"string\", \"format\": \"textarea\"}, \"isBasedOn\": {\"type\": \"array\", \"title\": \"Process is based on\", \"uniqueItems\": true, \"items\": {\"type\": \"string\", \"title\": \"Process\", \"cordra\": {\"type\": {\"handleReference\": {\"types\": [\"ProcessProtocol\", \"ProcessHistory\"]}}}}}, \"hasPart\": {\"type\": \"array\", \"title\": \"Subprocess\", \"uniqueItems\": true, \"items\": {\"type\": \"string\", \"title\": \"Subprocess\", \"cordra\": {\"type\": {\"handleReference\": {\"types\": [\"ProcessProtocol\", \"ProcessHistory\"]}}}}}, \"isPartOf\": {\"type\": \"array\", \"title\": \"Parent Process and Collections\", \"uniqueItems\": true, \"items\": {\"type\": \"string\", \"title\": \"Parent Process or Collection\", \"cordra\": {\"type\": {\"handleReference\": {\"types\": [\"Collection\", \"ProcessProtocol\", \"ProcessHistory\"]}}}}}, \"supply\": {\"type\": \"array\", \"title\": \"Supply/Starting Materials\", \"uniqueItems\": true, \"items\": {\"type\": \"object\", \"title\": \"Supply/Starting Material\", \"properties\": {\"@type\": {\"type\": \"array\", \"default\": [\"HowToSupply\", \"mat:Material\"]}, \"identifier\": {\"type\": \"string\", \"cordra\": {\"type\": {\"handleReference\": {\"types\": [\"Material\"]}}}}, \"name\": {\"type\": \"string\", \"title\": \"Name\"}, \"requiredQuantity\": {\"$ref\": \"#/definitions/QuantitativeValue\"}}}}, \"variableMeasured\": {\"type\": \"array\", \"title\": \"Variables Measured\", \"uniqueItems\": true, \"items\": {\"title\": \"Variable Measured\", \"$ref\": \"#/definitions/variableMeasured\"}}, \"parameterControlled\": {\"type\": \"array\", \"title\": \"Parameters Controlled\", \"uniqueItems\": true, \"items\": {\"title\": \"Parameter Controlled\", \"$ref\": \"#/definitions/variableMeasured\"}}, \"conditionObserved\": {\"type\": \"array\", \"title\": \"Conditions Observed\", \"uniqueItems\": true, \"items\": {\"title\": \"Condition Observed\", \"$ref\": \"#/definitions/variableMeasured\"}}, \"workExample\": {\"type\": \"array\", \"title\": \"Resulting Materials\", \"uniqueItems\": true, \"items\": {\"type\": \"string\", \"title\": \"Resulting Material\", \"cordra\": {\"type\": {\"handleReference\": {\"types\": [\"Material\"]}}}}}, \"measurementTechnique\": {\"$ref\": \"#/definitions/measurementTechnique\"}, \"tool\": {\"type\": \"array\", \"title\": \"Tools used to perform the process\", \"uniqueItems\": true, \"items\": {\"type\": \"string\", \"title\": \"Tools used to perform the process\", \"cordra\": {\"type\": {\"handleReference\": {\"types\": [\"DefinedTerm\", \"Instrument\", \"SoftwareApplication\", \"SoftwareSourceCode\"]}}}}}, \"estimatedCost\": {\"type\": \"object\", \"title\": \"MonetaryAmount\", \"properties\": {\"@type\": {\"type\": \"string\", \"default\": \"MonetaryAmount\"}, \"currency\": {\"type\": \"string\"}, \"value\": {\"type\": \"number\"}}}, \"performTime\": {\"type\": \"string\"}, \"prepTime\": {\"type\": \"string\"}, \"totalTime\": {\"type\": \"string\"}, \"yield\": {\"$ref\": \"#/definitions/QuantitativeValue\"}, \"position\": {\"title\": \"Step Number\", \"type\": \"number\"}, \"step\": {\"type\": \"array\", \"title\": \"Process Steps\", \"uniqueItems\": true, \"items\": {\"title\": \"Process Step\", \"$ref\": \"#/definitions/Process\"}}}}))\n",
       "        });\n",
       "        "
      ]
     },
     "metadata": {},
     "output_type": "display_data"
    }
   ],
   "source": [
    "RenderJSON(schemas['ProcessHistory'])"
   ]
  },
  {
   "cell_type": "code",
   "execution_count": 4,
   "metadata": {
    "scrolled": false
   },
   "outputs": [
    {
     "data": {
      "text/html": [
       "<div id=\"a0069d42-4d1d-4104-ade3-63feaec041df\" style=\"height: 600px; width:100%;\"></div>"
      ]
     },
     "metadata": {},
     "output_type": "display_data"
    },
    {
     "data": {
      "application/javascript": [
       "\n",
       "        require([\"https://rawgit.com/caldwell/renderjson/master/renderjson.js\"], function() {\n",
       "          renderjson.set_show_to_level(1)\n",
       "          document.getElementById('a0069d42-4d1d-4104-ade3-63feaec041df').appendChild(renderjson({\"$schema\": \"http://json-schema.org/draft-04/schema#\", \"type\": \"object\", \"title\": \"ProcessHistory\", \"description\": \"This schema is for describing the processing history of a material.\", \"required\": [\"@id\", \"@context\", \"@type\"], \"definitions\": {\"QuantitativeValue\": {\"type\": \"object\", \"properties\": {\"@type\": {\"type\": \"string\", \"default\": \"QuantitativeValue\"}, \"name\": {\"type\": \"string\", \"title\": \"Name\"}, \"value\": {\"title\": \"Value\"}, \"unitText\": {\"title\": \"Unit Text\", \"type\": \"string\"}, \"unitCode\": {\"title\": \"Unit Code\", \"type\": \"string\", \"cordra\": {\"type\": {\"handleReference\": {\"types\": [\"UnitOfMeasurement\"]}}}}}}, \"measurementTechnique\": {\"type\": \"array\", \"title\": \"Synthesis/Measurement/Computational Technique or Instrument/Software Used\", \"uniqueItems\": true, \"items\": {\"type\": \"string\", \"title\": \"Referenced Item\", \"cordra\": {\"type\": {\"handleReference\": {\"types\": [\"DefinedTerm\", \"Instrument\", \"SoftwareApplication\", \"SoftwareSourceCode\"]}}}}}, \"variableMeasured\": {\"type\": \"object\", \"properties\": {\"@type\": {\"type\": \"string\", \"default\": \"PropertyValue\"}, \"name\": {\"type\": \"string\", \"title\": \"Name\"}, \"propertyID\": {\"title\": \"Property IDs\", \"type\": \"array\", \"uniqueItems\": true, \"items\": {\"title\": \"Property ID\", \"type\": \"string\", \"cordra\": {\"type\": {\"handleReference\": {\"types\": [\"DefinedTerm\"]}}}}}, \"value\": {\"title\": \"Value\"}, \"valueID\": {\"title\": \"Value IDs\", \"type\": \"array\", \"description\": \"A commonly used identifier for the value represented by the property. This can be used when the value of the property is a DefinedTerm.\", \"uniqueItems\": true, \"items\": {\"title\": \"Value ID\", \"type\": \"string\", \"cordra\": {\"type\": {\"handleReference\": {\"types\": [\"DefinedTerm\"]}}}}}, \"unitText\": {\"title\": \"Unit Text\", \"oneOf\": [{\"type\": \"string\"}, {\"type\": \"null\"}]}, \"unitCode\": {\"title\": \"Unit Code\", \"type\": \"string\", \"cordra\": {\"type\": {\"handleReference\": {\"types\": [\"UnitOfMeasurement\"]}}}}, \"valueReference\": {\"type\": \"array\", \"title\": \"Reference Values\", \"uniqueItems\": true, \"items\": {\"type\": \"object\", \"title\": \"Reference Value\", \"properties\": {\"@type\": {\"type\": \"string\", \"default\": \"PropertyValue\"}, \"name\": {\"type\": \"string\", \"title\": \"Name\"}, \"propertyID\": {\"title\": \"Property ID/Name\", \"type\": \"string\", \"cordra\": {\"type\": {\"handleReference\": {\"types\": [\"DefinedTerm\"]}}}}, \"value\": {\"title\": \"Value\"}, \"valueID\": {\"title\": \"Value IDs\", \"type\": \"array\", \"description\": \"A commonly used identifier for the value represented by the property. This can be used when the value of the property is a DefinedTerm.\", \"uniqueItems\": true, \"items\": {\"title\": \"Value ID\", \"type\": \"string\", \"cordra\": {\"type\": {\"handleReference\": {\"types\": [\"DefinedTerm\"]}}}}}, \"unitText\": {\"title\": \"Unit Text\", \"type\": \"string\"}, \"unitCode\": {\"title\": \"Unit Code\", \"type\": \"string\", \"cordra\": {\"type\": {\"handleReference\": {\"types\": [\"UnitOfMeasurement\"]}}}}}}}, \"variableMeasured\": {\"type\": \"array\", \"title\": \"Variables Measured (nested)\", \"uniqueItems\": true, \"items\": {\"title\": \"Complex/Multidimensional Quantity\", \"$ref\": \"#/definitions/variableMeasured\"}}, \"parameterControlled\": {\"type\": \"array\", \"title\": \"Parameters Controlled (nested)\", \"uniqueItems\": true, \"items\": {\"title\": \"Parameter Controlled\", \"$ref\": \"#/definitions/variableMeasured\"}}, \"conditionObserved\": {\"type\": \"array\", \"title\": \"Conditions Observed (nested)\", \"uniqueItems\": true, \"items\": {\"title\": \"Condition Observed\", \"$ref\": \"#/definitions/variableMeasured\"}}}}, \"Process\": {\"type\": \"object\", \"properties\": {\"@type\": {\"type\": \"array\", \"default\": [\"HowToStep\", \"mat:Process\"]}, \"name\": {\"type\": \"string\", \"title\": \"Name\", \"cordra\": {\"preview\": {\"showInPreview\": true, \"isPrimary\": true}}}, \"about\": {\"type\": \"array\", \"title\": \"About\", \"description\": \"The subject matter of this thing (e.g., DefinedTerm, Project, Material, Experiment, Study, etc.)\", \"uniqueItems\": true, \"items\": {\"type\": \"string\", \"title\": \"Referenced Item\", \"cordra\": {\"type\": {\"handleReference\": {\"types\": []}}}}}, \"keywords\": {\"type\": \"array\", \"title\": \"Keywords\", \"description\": \"This is for user-defined terms.\", \"uniqueItems\": true, \"items\": {\"type\": \"string\", \"title\": \"Keyword\"}}, \"text\": {\"title\": \"Process/Step Text\", \"type\": \"string\", \"format\": \"textarea\"}, \"isBasedOn\": {\"type\": \"array\", \"title\": \"Process is based on\", \"uniqueItems\": true, \"items\": {\"type\": \"string\", \"title\": \"Process\", \"cordra\": {\"type\": {\"handleReference\": {\"types\": [\"ProcessProtocol\", \"ProcessHistory\"]}}}}}, \"hasPart\": {\"type\": \"array\", \"title\": \"Subprocess\", \"uniqueItems\": true, \"items\": {\"type\": \"string\", \"title\": \"Subprocess\", \"cordra\": {\"type\": {\"handleReference\": {\"types\": [\"ProcessProtocol\", \"ProcessHistory\"]}}}}}, \"isPartOf\": {\"type\": \"array\", \"title\": \"Parent Process and Collections\", \"uniqueItems\": true, \"items\": {\"type\": \"string\", \"title\": \"Parent Process or Collection\", \"cordra\": {\"type\": {\"handleReference\": {\"types\": [\"Collection\", \"ProcessProtocol\", \"ProcessHistory\"]}}}}}, \"supply\": {\"type\": \"array\", \"title\": \"Supply/Starting Materials\", \"uniqueItems\": true, \"items\": {\"type\": \"object\", \"title\": \"Supply/Starting Material\", \"properties\": {\"@type\": {\"type\": \"array\", \"default\": [\"HowToSupply\", \"mat:Material\"]}, \"identifier\": {\"type\": \"string\", \"cordra\": {\"type\": {\"handleReference\": {\"types\": [\"Material\"]}}}}, \"name\": {\"type\": \"string\", \"title\": \"Name\"}, \"requiredQuantity\": {\"$ref\": \"#/definitions/QuantitativeValue\"}}}}, \"variableMeasured\": {\"type\": \"array\", \"title\": \"Variables Measured\", \"uniqueItems\": true, \"items\": {\"title\": \"Variable Measured\", \"$ref\": \"#/definitions/variableMeasured\"}}, \"parameterControlled\": {\"type\": \"array\", \"title\": \"Parameters Controlled\", \"uniqueItems\": true, \"items\": {\"title\": \"Parameter Controlled\", \"$ref\": \"#/definitions/variableMeasured\"}}, \"conditionObserved\": {\"type\": \"array\", \"title\": \"Conditions Observed\", \"uniqueItems\": true, \"items\": {\"title\": \"Condition Observed\", \"$ref\": \"#/definitions/variableMeasured\"}}, \"workExample\": {\"type\": \"array\", \"title\": \"Resulting Materials\", \"uniqueItems\": true, \"items\": {\"type\": \"string\", \"title\": \"Resulting Material\", \"cordra\": {\"type\": {\"handleReference\": {\"types\": [\"Material\"]}}}}}, \"measurementTechnique\": {\"$ref\": \"#/definitions/measurementTechnique\"}, \"tool\": {\"type\": \"array\", \"title\": \"Tools used to perform the process\", \"uniqueItems\": true, \"items\": {\"type\": \"string\", \"title\": \"Tools used to perform the process\", \"cordra\": {\"type\": {\"handleReference\": {\"types\": [\"DefinedTerm\", \"Instrument\", \"SoftwareApplication\", \"SoftwareSourceCode\"]}}}}}, \"estimatedCost\": {\"type\": \"object\", \"title\": \"MonetaryAmount\", \"properties\": {\"@type\": {\"type\": \"string\", \"default\": \"MonetaryAmount\"}, \"currency\": {\"type\": \"string\"}, \"value\": {\"type\": \"number\"}}}, \"performTime\": {\"type\": \"string\"}, \"prepTime\": {\"type\": \"string\"}, \"totalTime\": {\"type\": \"string\"}, \"yield\": {\"$ref\": \"#/definitions/QuantitativeValue\"}, \"position\": {\"title\": \"Step Number\", \"type\": \"number\"}, \"step\": {\"type\": \"array\", \"title\": \"Process Steps\", \"uniqueItems\": true, \"items\": {\"title\": \"Process Step\", \"$ref\": \"#/definitions/Process\"}}}}}, \"properties\": {\"@context\": {\"type\": \"array\", \"default\": [\"http://schema.org/\", {\"mat\": \"https://pages.nist.gov/material-schema/\", \"measurementTechnique\": \"mat:measurementTechnique\", \"parameterControlled\": \"mat:parameterControlled\", \"variableMeasured\": \"mat:variableMeasured\"}]}, \"@type\": {\"type\": \"array\", \"default\": [\"HowTo\", \"mat:ProcessHistory\"]}, \"@id\": {\"type\": \"string\", \"cordra\": {\"type\": {\"autoGeneratedField\": \"handle\"}}}, \"identifier\": {\"type\": \"array\", \"title\": \"Identifers\", \"items\": {\"type\": \"object\", \"title\": \"Identifer\", \"properties\": {\"@type\": {\"type\": \"string\", \"default\": \"PropertyValue\"}, \"propertyID\": {\"title\": \"Property IDs\", \"type\": \"array\", \"uniqueItems\": true, \"items\": {\"title\": \"Property ID\", \"type\": \"string\", \"cordra\": {\"type\": {\"handleReference\": {\"types\": [\"DefinedTerm\"]}}}}}, \"name\": {\"title\": \"Identifier Type/Name\", \"type\": \"string\"}, \"value\": {\"title\": \"Identifier Value\"}, \"url\": {\"title\": \"Identifier URL\", \"type\": \"string\"}}}}, \"name\": {\"type\": \"string\", \"title\": \"Name\", \"cordra\": {\"preview\": {\"showInPreview\": true, \"isPrimary\": true}}}, \"alternateName\": {\"type\": \"string\", \"title\": \"Alternate Name\", \"cordra\": {\"preview\": {\"showInPreview\": true}}}, \"description\": {\"type\": \"string\", \"title\": \"Description\", \"format\": \"textarea\", \"cordra\": {\"preview\": {\"showInPreview\": true}}}, \"url\": {\"type\": \"string\", \"title\": \"URL\"}, \"image\": {\"type\": \"array\", \"title\": \"Image URLs\", \"uniqueItems\": true, \"items\": {\"type\": \"string\", \"title\": \"Image URL\"}}, \"subjectOf\": {\"type\": \"array\", \"title\": \"Subject Of\", \"description\": \"A CreativeWork about this Thing (e.g., Linked Materials, Datasets, etc.)\", \"uniqueItems\": true, \"items\": {\"type\": \"string\", \"title\": \"Referenced Item\", \"cordra\": {\"type\": {\"handleReference\": {\"types\": []}}}}}, \"about\": {\"type\": \"array\", \"title\": \"About\", \"description\": \"The subject matter of this thing (e.g., DefinedTerm, Project, Material, Experiment, Study, etc.)\", \"uniqueItems\": true, \"items\": {\"type\": \"string\", \"title\": \"Referenced Item\", \"cordra\": {\"type\": {\"handleReference\": {\"types\": []}}}}}, \"keywords\": {\"type\": \"array\", \"title\": \"Keywords\", \"description\": \"This is for user-defined terms.\", \"uniqueItems\": true, \"items\": {\"type\": \"string\", \"title\": \"Keyword\"}}, \"citation\": {\"type\": \"array\", \"title\": \"Citations\", \"uniqueItems\": true, \"items\": {\"type\": \"string\", \"title\": \"Citation\", \"cordra\": {\"type\": {\"handleReference\": {\"types\": []}}}}}, \"funder\": {\"type\": \"array\", \"title\": \"Funders\", \"uniqueItems\": true, \"items\": {\"type\": \"string\", \"title\": \"Funder\", \"cordra\": {\"type\": {\"handleReference\": {\"types\": [\"User\", \"Person\", \"Organization\"]}}}}}, \"accountablePerson\": {\"type\": \"array\", \"title\": \"Accountable Persons\", \"uniqueItems\": true, \"items\": {\"type\": \"string\", \"title\": \"Accountable Person\", \"cordra\": {\"type\": {\"handleReference\": {\"types\": [\"User\", \"Person\"]}}}}}, \"author\": {\"type\": \"array\", \"title\": \"Authors\", \"uniqueItems\": true, \"items\": {\"type\": \"string\", \"title\": \"Author\", \"cordra\": {\"type\": {\"handleReference\": {\"types\": [\"User\", \"Person\", \"Organization\"]}}}}}, \"editor\": {\"type\": \"array\", \"title\": \"Editors\", \"uniqueItems\": true, \"items\": {\"type\": \"string\", \"title\": \"Editor\", \"cordra\": {\"type\": {\"handleReference\": {\"types\": [\"User\", \"Person\"]}}}}}, \"creator\": {\"type\": \"array\", \"title\": \"Creators\", \"uniqueItems\": true, \"items\": {\"type\": \"string\", \"title\": \"Creator\", \"cordra\": {\"type\": {\"handleReference\": {\"types\": [\"User\", \"Person\", \"Organization\"]}}}}}, \"contributor\": {\"type\": \"array\", \"title\": \"Contributors\", \"uniqueItems\": true, \"items\": {\"type\": \"string\", \"title\": \"Contributor\", \"cordra\": {\"type\": {\"handleReference\": {\"types\": [\"User\", \"Person\", \"Organization\"]}}}}}, \"provider\": {\"type\": \"array\", \"title\": \"Providers\", \"uniqueItems\": true, \"items\": {\"type\": \"string\", \"title\": \"Provider\", \"cordra\": {\"type\": {\"handleReference\": {\"types\": [\"User\", \"Person\", \"Organization\"]}}}}}, \"publisher\": {\"type\": \"array\", \"title\": \"Publishers\", \"uniqueItems\": true, \"items\": {\"type\": \"string\", \"title\": \"Publisher\", \"cordra\": {\"type\": {\"handleReference\": {\"types\": [\"User\", \"Person\", \"Organization\"]}}}}}, \"copyrightHolder\": {\"type\": \"array\", \"title\": \"Copyright Holders\", \"uniqueItems\": true, \"items\": {\"type\": \"string\", \"title\": \"Copyright Holder\", \"cordra\": {\"type\": {\"handleReference\": {\"types\": [\"User\", \"Person\", \"Organization\"]}}}}}, \"license\": {\"type\": \"string\", \"title\": \"License\"}, \"thumbnailUrl\": {\"type\": \"array\", \"title\": \"Thumbnail URLs\", \"uniqueItems\": true, \"items\": {\"type\": \"string\", \"title\": \"Thumbnail URL\"}}, \"dateCreated\": {\"title\": \"Date Created\", \"description\": \"A date value in ISO 8601 date format, e.g.: YYYY-MM-DD, YYYY-MM-DDThh:mm:ssTZD\", \"type\": \"string\"}, \"dateModified\": {\"title\": \"Date Modified\", \"description\": \"A date value in ISO 8601 date format, e.g.: YYYY-MM-DD, YYYY-MM-DDThh:mm:ssTZD\", \"type\": \"string\"}, \"datePublished\": {\"title\": \"Date Published\", \"description\": \"A date value in ISO 8601 date format, e.g.: YYYY-MM-DD, YYYY-MM-DDThh:mm:ssTZD\", \"type\": \"string\"}, \"comment\": {\"type\": \"array\", \"title\": \"Comments\", \"uniqueItems\": true, \"items\": {\"type\": \"string\", \"title\": \"Comment\", \"cordra\": {\"type\": {\"handleReference\": {\"types\": [\"Comment\"]}}}}}, \"spatial\": {\"type\": \"array\", \"title\": \"Specific Spatial Location\", \"uniqueItems\": true, \"items\": {\"type\": \"string\", \"title\": \"Place\", \"cordra\": {\"type\": {\"handleReference\": {\"types\": [\"Place\"]}}}}}, \"text\": {\"title\": \"Process/Step Text\", \"type\": \"string\", \"format\": \"textarea\"}, \"isBasedOn\": {\"type\": \"array\", \"title\": \"Process is based on\", \"uniqueItems\": true, \"items\": {\"type\": \"string\", \"title\": \"Process\", \"cordra\": {\"type\": {\"handleReference\": {\"types\": [\"ProcessProtocol\", \"ProcessHistory\"]}}}}}, \"hasPart\": {\"type\": \"array\", \"title\": \"Subprocess\", \"uniqueItems\": true, \"items\": {\"type\": \"string\", \"title\": \"Subprocess\", \"cordra\": {\"type\": {\"handleReference\": {\"types\": [\"ProcessProtocol\", \"ProcessHistory\"]}}}}}, \"isPartOf\": {\"type\": \"array\", \"title\": \"Parent Process and Collections\", \"uniqueItems\": true, \"items\": {\"type\": \"string\", \"title\": \"Parent Process or Collection\", \"cordra\": {\"type\": {\"handleReference\": {\"types\": [\"Collection\", \"ProcessProtocol\", \"ProcessHistory\"]}}}}}, \"supply\": {\"type\": \"array\", \"title\": \"Supply/Starting Materials\", \"uniqueItems\": true, \"items\": {\"type\": \"object\", \"title\": \"Supply/Starting Material\", \"properties\": {\"@type\": {\"type\": \"array\", \"default\": [\"HowToSupply\", \"mat:Material\"]}, \"identifier\": {\"type\": \"string\", \"cordra\": {\"type\": {\"handleReference\": {\"types\": [\"Material\"]}}}}, \"name\": {\"type\": \"string\", \"title\": \"Name\"}, \"requiredQuantity\": {\"$ref\": \"#/definitions/QuantitativeValue\"}}}}, \"variableMeasured\": {\"type\": \"array\", \"title\": \"Variables Measured\", \"uniqueItems\": true, \"items\": {\"title\": \"Variable Measured\", \"$ref\": \"#/definitions/variableMeasured\"}}, \"parameterControlled\": {\"type\": \"array\", \"title\": \"Parameters Controlled\", \"uniqueItems\": true, \"items\": {\"title\": \"Parameter Controlled\", \"$ref\": \"#/definitions/variableMeasured\"}}, \"conditionObserved\": {\"type\": \"array\", \"title\": \"Conditions Observed\", \"uniqueItems\": true, \"items\": {\"title\": \"Condition Observed\", \"$ref\": \"#/definitions/variableMeasured\"}}, \"workExample\": {\"type\": \"array\", \"title\": \"Resulting Materials\", \"uniqueItems\": true, \"items\": {\"type\": \"string\", \"title\": \"Resulting Material\", \"cordra\": {\"type\": {\"handleReference\": {\"types\": [\"Material\"]}}}}}, \"measurementTechnique\": {\"$ref\": \"#/definitions/measurementTechnique\"}, \"tool\": {\"type\": \"array\", \"title\": \"Tools used to perform the process\", \"uniqueItems\": true, \"items\": {\"type\": \"string\", \"title\": \"Tools used to perform the process\", \"cordra\": {\"type\": {\"handleReference\": {\"types\": [\"DefinedTerm\", \"Instrument\", \"SoftwareApplication\", \"SoftwareSourceCode\"]}}}}}, \"estimatedCost\": {\"type\": \"object\", \"title\": \"MonetaryAmount\", \"properties\": {\"@type\": {\"type\": \"string\", \"default\": \"MonetaryAmount\"}, \"currency\": {\"type\": \"string\"}, \"value\": {\"type\": \"number\"}}}, \"performTime\": {\"type\": \"string\"}, \"prepTime\": {\"type\": \"string\"}, \"totalTime\": {\"type\": \"string\"}, \"yield\": {\"$ref\": \"#/definitions/QuantitativeValue\"}, \"position\": {\"title\": \"Step Number\", \"type\": \"number\"}, \"step\": {\"type\": \"array\", \"title\": \"Process Steps\", \"uniqueItems\": true, \"items\": {\"title\": \"Process Step\", \"$ref\": \"#/definitions/Process\"}}}}))\n",
       "        });\n",
       "        "
      ]
     },
     "metadata": {},
     "output_type": "display_data"
    }
   ],
   "source": [
    "import uuid\n",
    "from IPython.display import display_javascript, display_html, display\n",
    "import json\n",
    "\n",
    "class RenderJSON(object):\n",
    "    def __init__(self, json_data):\n",
    "        if isinstance(json_data, dict):\n",
    "            self.json_str = json.dumps(json_data)\n",
    "        else:\n",
    "            self.json_str = json\n",
    "        self.uuid = str(uuid.uuid4())\n",
    "        \n",
    "    def _ipython_display_(self):\n",
    "        display_html('<div id=\"{}\" style=\"height: 600px; width:100%;\"></div>'.format(self.uuid),\n",
    "            raw=True\n",
    "        )\n",
    "        display_javascript(\"\"\"\n",
    "        require([\"https://rawgit.com/caldwell/renderjson/master/renderjson.js\"], function() {\n",
    "          renderjson.set_show_to_level(1)\n",
    "          document.getElementById('%s').appendChild(renderjson(%s))\n",
    "        });\n",
    "        \"\"\" % (self.uuid, self.json_str), raw=True)\n",
    "        \n",
    "RenderJSON(schemas['ProcessHistory'])"
   ]
  },
  {
   "cell_type": "code",
   "execution_count": 12,
   "metadata": {},
   "outputs": [],
   "source": [
    "import warlock\n",
    "File = warlock.model_factory(schemas[\"ProcessHistory\"])\n",
    "f = File(**{\"@id\": \"1\", \"@context\": [\"is\"], \"@type\": [\"Material\"]})\n",
    "g = File(**{\"@id\": \"2\", \"@context\": [\"is\"], \"@type\": [\"friend\"]})\n",
    "h = File(**{\"@id\": \"3\", \"@context\": [\"is\"], \"@type\": [\"friend\"]})"
   ]
  },
  {
   "cell_type": "code",
   "execution_count": 13,
   "metadata": {
    "scrolled": false
   },
   "outputs": [],
   "source": [
    "f.parameterControlled = [{\"name\": \"Temperature\", \"propertyID\": [\"ffgh12300uu\"]}]\n",
    "f.workExample = [g[\"@id\"]]\n",
    "f.somethingNew = 10"
   ]
  },
  {
   "cell_type": "code",
   "execution_count": 15,
   "metadata": {},
   "outputs": [],
   "source": [
    "g.workExample = [h[\"@id\"]]\n",
    "h.workExample = [f[\"@id\"]]"
   ]
  },
  {
   "cell_type": "code",
   "execution_count": 16,
   "metadata": {},
   "outputs": [
    {
     "data": {
      "text/plain": [
       "{'@id': '1',\n",
       " '@context': ['is'],\n",
       " '@type': ['friend'],\n",
       " 'parameterControlled': [{'name': 'Temperature',\n",
       "   'propertyID': ['ffgh12300uu']}],\n",
       " 'workExample': ['2'],\n",
       " 'somethingNew': 10}"
      ]
     },
     "execution_count": 16,
     "metadata": {},
     "output_type": "execute_result"
    }
   ],
   "source": [
    "f"
   ]
  },
  {
   "cell_type": "code",
   "execution_count": 20,
   "metadata": {},
   "outputs": [],
   "source": [
    "newSchema = {\n",
    "    \"name\": \"newSchema\",\n",
    "    \"allOf\": [schemas[\"ProcessHistory\"]],\n",
    "    \"subtypeof\": \"ProcessHistory\",\n",
    "    \"properties\": {\n",
    "        \"myNewProperty\": {\n",
    "            \"type\": \"string\",\n",
    "            \"name\": \"myNewProperty\"\n",
    "        }\n",
    "    }\n",
    "}\n",
    "\n",
    "NS = warlock.model_factory(newSchema)\n",
    "\n",
    "ns = NS(**{\"@id\": \"4\", \"@context\": [\"is\"], \"@type\": [\"friend\"]})"
   ]
  },
  {
   "cell_type": "code",
   "execution_count": null,
   "metadata": {},
   "outputs": [],
   "source": []
  }
 ],
 "metadata": {
  "kernelspec": {
   "display_name": "Python 3",
   "language": "python",
   "name": "python3"
  },
  "language_info": {
   "codemirror_mode": {
    "name": "ipython",
    "version": 3
   },
   "file_extension": ".py",
   "mimetype": "text/x-python",
   "name": "python",
   "nbconvert_exporter": "python",
   "pygments_lexer": "ipython3",
   "version": "3.8.5"
  }
 },
 "nbformat": 4,
 "nbformat_minor": 4
}
