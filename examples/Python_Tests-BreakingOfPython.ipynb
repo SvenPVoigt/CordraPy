{
 "cells": [
  {
   "cell_type": "code",
   "execution_count": 70,
   "metadata": {},
   "outputs": [
    {
     "data": {
      "text/plain": [
       "'1.8.2'"
      ]
     },
     "execution_count": 70,
     "metadata": {},
     "output_type": "execute_result"
    }
   ],
   "source": [
    "from pydantic import BaseModel, Field, Extra, PrivateAttr\n",
    "from typing import Any, Dict, List, Callable\n",
    "from enum import Enum\n",
    "import pydantic\n",
    "import copy\n",
    "\n",
    "pydantic.VERSION"
   ]
  },
  {
   "cell_type": "code",
   "execution_count": 72,
   "metadata": {},
   "outputs": [
    {
     "ename": "TypeError",
     "evalue": "Object of type 'function' is not JSON serializable",
     "output_type": "error",
     "traceback": [
      "\u001b[0;31m---------------------------------------------------------------------------\u001b[0m",
      "\u001b[0;31mTypeError\u001b[0m                                 Traceback (most recent call last)",
      "\u001b[0;32m<ipython-input-72-3c9109777490>\u001b[0m in \u001b[0;36m<module>\u001b[0;34m\u001b[0m\n\u001b[1;32m     18\u001b[0m \u001b[0;31m# setattr(a, \"_y\", \"z\")\u001b[0m\u001b[0;34m\u001b[0m\u001b[0;34m\u001b[0m\u001b[0;34m\u001b[0m\u001b[0m\n\u001b[1;32m     19\u001b[0m \u001b[0;34m\u001b[0m\u001b[0m\n\u001b[0;32m---> 20\u001b[0;31m \u001b[0mprint\u001b[0m\u001b[0;34m(\u001b[0m\u001b[0ma\u001b[0m\u001b[0;34m.\u001b[0m\u001b[0mjson\u001b[0m\u001b[0;34m(\u001b[0m\u001b[0mindent\u001b[0m\u001b[0;34m=\u001b[0m\u001b[0;36m2\u001b[0m\u001b[0;34m)\u001b[0m\u001b[0;34m)\u001b[0m\u001b[0;34m\u001b[0m\u001b[0;34m\u001b[0m\u001b[0m\n\u001b[0m\u001b[1;32m     21\u001b[0m \u001b[0mprint\u001b[0m\u001b[0;34m(\u001b[0m\u001b[0ma\u001b[0m\u001b[0;34m.\u001b[0m\u001b[0m_y\u001b[0m\u001b[0;34m)\u001b[0m\u001b[0;34m\u001b[0m\u001b[0;34m\u001b[0m\u001b[0m\n\u001b[1;32m     22\u001b[0m \u001b[0;34m\u001b[0m\u001b[0m\n",
      "\u001b[0;32m~/.local/lib/python3.8/site-packages/pydantic/main.cpython-38-x86_64-linux-gnu.so\u001b[0m in \u001b[0;36mpydantic.main.BaseModel.json\u001b[0;34m()\u001b[0m\n",
      "\u001b[0;32m~/anaconda3/envs/cordrapy/lib/python3.8/json/__init__.py\u001b[0m in \u001b[0;36mdumps\u001b[0;34m(obj, skipkeys, ensure_ascii, check_circular, allow_nan, cls, indent, separators, default, sort_keys, **kw)\u001b[0m\n\u001b[1;32m    232\u001b[0m     \u001b[0;32mif\u001b[0m \u001b[0mcls\u001b[0m \u001b[0;32mis\u001b[0m \u001b[0;32mNone\u001b[0m\u001b[0;34m:\u001b[0m\u001b[0;34m\u001b[0m\u001b[0;34m\u001b[0m\u001b[0m\n\u001b[1;32m    233\u001b[0m         \u001b[0mcls\u001b[0m \u001b[0;34m=\u001b[0m \u001b[0mJSONEncoder\u001b[0m\u001b[0;34m\u001b[0m\u001b[0;34m\u001b[0m\u001b[0m\n\u001b[0;32m--> 234\u001b[0;31m     return cls(\n\u001b[0m\u001b[1;32m    235\u001b[0m         \u001b[0mskipkeys\u001b[0m\u001b[0;34m=\u001b[0m\u001b[0mskipkeys\u001b[0m\u001b[0;34m,\u001b[0m \u001b[0mensure_ascii\u001b[0m\u001b[0;34m=\u001b[0m\u001b[0mensure_ascii\u001b[0m\u001b[0;34m,\u001b[0m\u001b[0;34m\u001b[0m\u001b[0;34m\u001b[0m\u001b[0m\n\u001b[1;32m    236\u001b[0m         \u001b[0mcheck_circular\u001b[0m\u001b[0;34m=\u001b[0m\u001b[0mcheck_circular\u001b[0m\u001b[0;34m,\u001b[0m \u001b[0mallow_nan\u001b[0m\u001b[0;34m=\u001b[0m\u001b[0mallow_nan\u001b[0m\u001b[0;34m,\u001b[0m \u001b[0mindent\u001b[0m\u001b[0;34m=\u001b[0m\u001b[0mindent\u001b[0m\u001b[0;34m,\u001b[0m\u001b[0;34m\u001b[0m\u001b[0;34m\u001b[0m\u001b[0m\n",
      "\u001b[0;32m~/anaconda3/envs/cordrapy/lib/python3.8/json/encoder.py\u001b[0m in \u001b[0;36mencode\u001b[0;34m(self, o)\u001b[0m\n\u001b[1;32m    199\u001b[0m         \u001b[0mchunks\u001b[0m \u001b[0;34m=\u001b[0m \u001b[0mself\u001b[0m\u001b[0;34m.\u001b[0m\u001b[0miterencode\u001b[0m\u001b[0;34m(\u001b[0m\u001b[0mo\u001b[0m\u001b[0;34m,\u001b[0m \u001b[0m_one_shot\u001b[0m\u001b[0;34m=\u001b[0m\u001b[0;32mTrue\u001b[0m\u001b[0;34m)\u001b[0m\u001b[0;34m\u001b[0m\u001b[0;34m\u001b[0m\u001b[0m\n\u001b[1;32m    200\u001b[0m         \u001b[0;32mif\u001b[0m \u001b[0;32mnot\u001b[0m \u001b[0misinstance\u001b[0m\u001b[0;34m(\u001b[0m\u001b[0mchunks\u001b[0m\u001b[0;34m,\u001b[0m \u001b[0;34m(\u001b[0m\u001b[0mlist\u001b[0m\u001b[0;34m,\u001b[0m \u001b[0mtuple\u001b[0m\u001b[0;34m)\u001b[0m\u001b[0;34m)\u001b[0m\u001b[0;34m:\u001b[0m\u001b[0;34m\u001b[0m\u001b[0;34m\u001b[0m\u001b[0m\n\u001b[0;32m--> 201\u001b[0;31m             \u001b[0mchunks\u001b[0m \u001b[0;34m=\u001b[0m \u001b[0mlist\u001b[0m\u001b[0;34m(\u001b[0m\u001b[0mchunks\u001b[0m\u001b[0;34m)\u001b[0m\u001b[0;34m\u001b[0m\u001b[0;34m\u001b[0m\u001b[0m\n\u001b[0m\u001b[1;32m    202\u001b[0m         \u001b[0;32mreturn\u001b[0m \u001b[0;34m''\u001b[0m\u001b[0;34m.\u001b[0m\u001b[0mjoin\u001b[0m\u001b[0;34m(\u001b[0m\u001b[0mchunks\u001b[0m\u001b[0;34m)\u001b[0m\u001b[0;34m\u001b[0m\u001b[0;34m\u001b[0m\u001b[0m\n\u001b[1;32m    203\u001b[0m \u001b[0;34m\u001b[0m\u001b[0m\n",
      "\u001b[0;32m~/anaconda3/envs/cordrapy/lib/python3.8/json/encoder.py\u001b[0m in \u001b[0;36m_iterencode\u001b[0;34m(o, _current_indent_level)\u001b[0m\n\u001b[1;32m    429\u001b[0m             \u001b[0;32myield\u001b[0m \u001b[0;32mfrom\u001b[0m \u001b[0m_iterencode_list\u001b[0m\u001b[0;34m(\u001b[0m\u001b[0mo\u001b[0m\u001b[0;34m,\u001b[0m \u001b[0m_current_indent_level\u001b[0m\u001b[0;34m)\u001b[0m\u001b[0;34m\u001b[0m\u001b[0;34m\u001b[0m\u001b[0m\n\u001b[1;32m    430\u001b[0m         \u001b[0;32melif\u001b[0m \u001b[0misinstance\u001b[0m\u001b[0;34m(\u001b[0m\u001b[0mo\u001b[0m\u001b[0;34m,\u001b[0m \u001b[0mdict\u001b[0m\u001b[0;34m)\u001b[0m\u001b[0;34m:\u001b[0m\u001b[0;34m\u001b[0m\u001b[0;34m\u001b[0m\u001b[0m\n\u001b[0;32m--> 431\u001b[0;31m             \u001b[0;32myield\u001b[0m \u001b[0;32mfrom\u001b[0m \u001b[0m_iterencode_dict\u001b[0m\u001b[0;34m(\u001b[0m\u001b[0mo\u001b[0m\u001b[0;34m,\u001b[0m \u001b[0m_current_indent_level\u001b[0m\u001b[0;34m)\u001b[0m\u001b[0;34m\u001b[0m\u001b[0;34m\u001b[0m\u001b[0m\n\u001b[0m\u001b[1;32m    432\u001b[0m         \u001b[0;32melse\u001b[0m\u001b[0;34m:\u001b[0m\u001b[0;34m\u001b[0m\u001b[0;34m\u001b[0m\u001b[0m\n\u001b[1;32m    433\u001b[0m             \u001b[0;32mif\u001b[0m \u001b[0mmarkers\u001b[0m \u001b[0;32mis\u001b[0m \u001b[0;32mnot\u001b[0m \u001b[0;32mNone\u001b[0m\u001b[0;34m:\u001b[0m\u001b[0;34m\u001b[0m\u001b[0;34m\u001b[0m\u001b[0m\n",
      "\u001b[0;32m~/anaconda3/envs/cordrapy/lib/python3.8/json/encoder.py\u001b[0m in \u001b[0;36m_iterencode_dict\u001b[0;34m(dct, _current_indent_level)\u001b[0m\n\u001b[1;32m    403\u001b[0m                 \u001b[0;32melse\u001b[0m\u001b[0;34m:\u001b[0m\u001b[0;34m\u001b[0m\u001b[0;34m\u001b[0m\u001b[0m\n\u001b[1;32m    404\u001b[0m                     \u001b[0mchunks\u001b[0m \u001b[0;34m=\u001b[0m \u001b[0m_iterencode\u001b[0m\u001b[0;34m(\u001b[0m\u001b[0mvalue\u001b[0m\u001b[0;34m,\u001b[0m \u001b[0m_current_indent_level\u001b[0m\u001b[0;34m)\u001b[0m\u001b[0;34m\u001b[0m\u001b[0;34m\u001b[0m\u001b[0m\n\u001b[0;32m--> 405\u001b[0;31m                 \u001b[0;32myield\u001b[0m \u001b[0;32mfrom\u001b[0m \u001b[0mchunks\u001b[0m\u001b[0;34m\u001b[0m\u001b[0;34m\u001b[0m\u001b[0m\n\u001b[0m\u001b[1;32m    406\u001b[0m         \u001b[0;32mif\u001b[0m \u001b[0mnewline_indent\u001b[0m \u001b[0;32mis\u001b[0m \u001b[0;32mnot\u001b[0m \u001b[0;32mNone\u001b[0m\u001b[0;34m:\u001b[0m\u001b[0;34m\u001b[0m\u001b[0;34m\u001b[0m\u001b[0m\n\u001b[1;32m    407\u001b[0m             \u001b[0m_current_indent_level\u001b[0m \u001b[0;34m-=\u001b[0m \u001b[0;36m1\u001b[0m\u001b[0;34m\u001b[0m\u001b[0;34m\u001b[0m\u001b[0m\n",
      "\u001b[0;32m~/anaconda3/envs/cordrapy/lib/python3.8/json/encoder.py\u001b[0m in \u001b[0;36m_iterencode\u001b[0;34m(o, _current_indent_level)\u001b[0m\n\u001b[1;32m    436\u001b[0m                     \u001b[0;32mraise\u001b[0m \u001b[0mValueError\u001b[0m\u001b[0;34m(\u001b[0m\u001b[0;34m\"Circular reference detected\"\u001b[0m\u001b[0;34m)\u001b[0m\u001b[0;34m\u001b[0m\u001b[0;34m\u001b[0m\u001b[0m\n\u001b[1;32m    437\u001b[0m                 \u001b[0mmarkers\u001b[0m\u001b[0;34m[\u001b[0m\u001b[0mmarkerid\u001b[0m\u001b[0;34m]\u001b[0m \u001b[0;34m=\u001b[0m \u001b[0mo\u001b[0m\u001b[0;34m\u001b[0m\u001b[0;34m\u001b[0m\u001b[0m\n\u001b[0;32m--> 438\u001b[0;31m             \u001b[0mo\u001b[0m \u001b[0;34m=\u001b[0m \u001b[0m_default\u001b[0m\u001b[0;34m(\u001b[0m\u001b[0mo\u001b[0m\u001b[0;34m)\u001b[0m\u001b[0;34m\u001b[0m\u001b[0;34m\u001b[0m\u001b[0m\n\u001b[0m\u001b[1;32m    439\u001b[0m             \u001b[0;32myield\u001b[0m \u001b[0;32mfrom\u001b[0m \u001b[0m_iterencode\u001b[0m\u001b[0;34m(\u001b[0m\u001b[0mo\u001b[0m\u001b[0;34m,\u001b[0m \u001b[0m_current_indent_level\u001b[0m\u001b[0;34m)\u001b[0m\u001b[0;34m\u001b[0m\u001b[0;34m\u001b[0m\u001b[0m\n\u001b[1;32m    440\u001b[0m             \u001b[0;32mif\u001b[0m \u001b[0mmarkers\u001b[0m \u001b[0;32mis\u001b[0m \u001b[0;32mnot\u001b[0m \u001b[0;32mNone\u001b[0m\u001b[0;34m:\u001b[0m\u001b[0;34m\u001b[0m\u001b[0;34m\u001b[0m\u001b[0m\n",
      "\u001b[0;32m~/.local/lib/python3.8/site-packages/pydantic/json.cpython-38-x86_64-linux-gnu.so\u001b[0m in \u001b[0;36mpydantic.json.pydantic_encoder\u001b[0;34m()\u001b[0m\n",
      "\u001b[0;31mTypeError\u001b[0m: Object of type 'function' is not JSON serializable"
     ]
    }
   ],
   "source": [
    "class A(BaseModel):\n",
    "#     __slots__ = (\"_y\",)\n",
    "    x: str\n",
    "    foo: Callable=lambda x: x**2\n",
    "    _y: str  = PrivateAttr()\n",
    "        \n",
    "    class config:\n",
    "        extra = Extra.allow\n",
    "        arbitrary_types_allowed = True\n",
    "        validate_assignment = True\n",
    "        \n",
    "    def __init__(self, **data):\n",
    "        super().__init__(**data)\n",
    "#         self._y = \"y\"\n",
    "        \n",
    "        \n",
    "a = A(x=\"x\", _y=\"z\")\n",
    "# setattr(a, \"_y\", \"z\")\n",
    "\n",
    "print(a.json(indent=2))\n",
    "print(a._y)\n",
    "\n",
    "b = copy.deepcopy(a)\n",
    "del b._y\n",
    "\n",
    "print(a._y)\n",
    "print(b._y)"
   ]
  },
  {
   "cell_type": "code",
   "execution_count": 23,
   "metadata": {},
   "outputs": [
    {
     "name": "stdout",
     "output_type": "stream",
     "text": [
      "<class 'type'> <class 'type'>\n",
      "<class '__main__.B'> <class 'C'>\n"
     ]
    }
   ],
   "source": [
    "class B:\n",
    "    pass\n",
    "\n",
    "C = type(\"C\", (), {\"hello\": \"bye\", \"__module__\": None})\n",
    "\n",
    "print(type(B), type(C))\n",
    "\n",
    "print(type(B()), type(C()))"
   ]
  },
  {
   "cell_type": "code",
   "execution_count": 28,
   "metadata": {},
   "outputs": [
    {
     "data": {
      "text/plain": [
       "[('__class__', C),\n",
       " ('__delattr__', <method-wrapper '__delattr__' of C object at 0x7fb7ee4d8ac0>),\n",
       " ('__dict__', {'fine': 10}),\n",
       " ('__dir__', <function C.__dir__()>),\n",
       " ('__doc__', None),\n",
       " ('__eq__', <method-wrapper '__eq__' of C object at 0x7fb7ee4d8ac0>),\n",
       " ('__format__', <function C.__format__(format_spec, /)>),\n",
       " ('__ge__', <method-wrapper '__ge__' of C object at 0x7fb7ee4d8ac0>),\n",
       " ('__getattribute__',\n",
       "  <method-wrapper '__getattribute__' of C object at 0x7fb7ee4d8ac0>),\n",
       " ('__gt__', <method-wrapper '__gt__' of C object at 0x7fb7ee4d8ac0>),\n",
       " ('__hash__', <method-wrapper '__hash__' of C object at 0x7fb7ee4d8ac0>),\n",
       " ('__init__', <method-wrapper '__init__' of C object at 0x7fb7ee4d8ac0>),\n",
       " ('__init_subclass__', <function C.__init_subclass__>),\n",
       " ('__le__', <method-wrapper '__le__' of C object at 0x7fb7ee4d8ac0>),\n",
       " ('__lt__', <method-wrapper '__lt__' of C object at 0x7fb7ee4d8ac0>),\n",
       " ('__module__', None),\n",
       " ('__ne__', <method-wrapper '__ne__' of C object at 0x7fb7ee4d8ac0>),\n",
       " ('__new__', <function object.__new__(*args, **kwargs)>),\n",
       " ('__reduce__', <function C.__reduce__()>),\n",
       " ('__reduce_ex__', <function C.__reduce_ex__(protocol, /)>),\n",
       " ('__repr__', <method-wrapper '__repr__' of C object at 0x7fb7ee4d8ac0>),\n",
       " ('__setattr__', <method-wrapper '__setattr__' of C object at 0x7fb7ee4d8ac0>),\n",
       " ('__sizeof__', <function C.__sizeof__()>),\n",
       " ('__str__', <method-wrapper '__str__' of C object at 0x7fb7ee4d8ac0>),\n",
       " ('__subclasshook__', <function C.__subclasshook__>),\n",
       " ('__weakref__', None),\n",
       " ('fine', 10),\n",
       " ('hello', 'bye')]"
      ]
     },
     "execution_count": 28,
     "metadata": {},
     "output_type": "execute_result"
    }
   ],
   "source": [
    "c = C()\n",
    "\n",
    "object.__setattr__(c, \"fine\", 10)\n",
    "\n",
    "c.__dict__\n",
    "\n",
    "inspect.getmembers(c)"
   ]
  },
  {
   "cell_type": "code",
   "execution_count": 50,
   "metadata": {
    "scrolled": false
   },
   "outputs": [
    {
     "name": "stdout",
     "output_type": "stream",
     "text": [
      "{\n",
      "  \"identifier\": \"abc\"\n",
      "}\n",
      "False\n"
     ]
    },
    {
     "data": {
      "text/plain": [
       "{}"
      ]
     },
     "execution_count": 50,
     "metadata": {},
     "output_type": "execute_result"
    }
   ],
   "source": [
    "class D_underscore(BaseModel):\n",
    "    identifier: str=\"abc\"\n",
    "    _test: int\n",
    "        \n",
    "d = D_underscore(_test=10)\n",
    "\n",
    "print( d.json(indent=2) )\n",
    "\n",
    "print(\"_test\" in dict(inspect.getmembers(d)))\n",
    "\n",
    "d.__private_attributes__"
   ]
  },
  {
   "cell_type": "code",
   "execution_count": 59,
   "metadata": {
    "scrolled": false
   },
   "outputs": [
    {
     "ename": "ValueError",
     "evalue": "\"D_underscore\" object has no field \"_test\"",
     "output_type": "error",
     "traceback": [
      "\u001b[0;31m---------------------------------------------------------------------------\u001b[0m",
      "\u001b[0;31mValueError\u001b[0m                                Traceback (most recent call last)",
      "\u001b[0;32m<ipython-input-59-26552277ac7d>\u001b[0m in \u001b[0;36m<module>\u001b[0;34m\u001b[0m\n\u001b[1;32m      5\u001b[0m \u001b[0;34m\u001b[0m\u001b[0m\n\u001b[1;32m      6\u001b[0m \u001b[0md\u001b[0m \u001b[0;34m=\u001b[0m \u001b[0mD_underscore\u001b[0m\u001b[0;34m(\u001b[0m\u001b[0;34m)\u001b[0m\u001b[0;34m\u001b[0m\u001b[0;34m\u001b[0m\u001b[0m\n\u001b[0;32m----> 7\u001b[0;31m \u001b[0md\u001b[0m\u001b[0;34m.\u001b[0m\u001b[0m_test\u001b[0m \u001b[0;34m=\u001b[0m \u001b[0;36m10\u001b[0m\u001b[0;34m\u001b[0m\u001b[0;34m\u001b[0m\u001b[0m\n\u001b[0m\u001b[1;32m      8\u001b[0m \u001b[0;34m\u001b[0m\u001b[0m\n\u001b[1;32m      9\u001b[0m \u001b[0mprint\u001b[0m\u001b[0;34m(\u001b[0m \u001b[0md\u001b[0m\u001b[0;34m.\u001b[0m\u001b[0mjson\u001b[0m\u001b[0;34m(\u001b[0m\u001b[0mindent\u001b[0m\u001b[0;34m=\u001b[0m\u001b[0;36m2\u001b[0m\u001b[0;34m)\u001b[0m \u001b[0;34m)\u001b[0m\u001b[0;34m\u001b[0m\u001b[0;34m\u001b[0m\u001b[0m\n",
      "\u001b[0;32m~/.local/lib/python3.8/site-packages/pydantic/main.cpython-38-x86_64-linux-gnu.so\u001b[0m in \u001b[0;36mpydantic.main.BaseModel.__setattr__\u001b[0;34m()\u001b[0m\n",
      "\u001b[0;31mValueError\u001b[0m: \"D_underscore\" object has no field \"_test\""
     ]
    }
   ],
   "source": [
    "class D_underscore(BaseModel):\n",
    "    identifier: str=\"abc\"\n",
    "    _test: int\n",
    "    \n",
    "        \n",
    "d = D_underscore()\n",
    "d._test = 10\n",
    "\n",
    "print( d.json(indent=2) )\n",
    "\n",
    "print(\"_test\" in dict(inspect.getmembers(d)))\n",
    "\n",
    "d.__private_attributes__"
   ]
  },
  {
   "cell_type": "code",
   "execution_count": 64,
   "metadata": {
    "scrolled": false
   },
   "outputs": [
    {
     "ename": "AttributeError",
     "evalue": "'int' object has no attribute 'get_default'",
     "output_type": "error",
     "traceback": [
      "\u001b[0;31m---------------------------------------------------------------------------\u001b[0m",
      "\u001b[0;31mAttributeError\u001b[0m                            Traceback (most recent call last)",
      "\u001b[0;32m<ipython-input-64-daf9ef910aed>\u001b[0m in \u001b[0;36m<module>\u001b[0;34m\u001b[0m\n\u001b[1;32m      3\u001b[0m     \u001b[0m_test\u001b[0m\u001b[0;34m:\u001b[0m \u001b[0mint\u001b[0m\u001b[0;34m=\u001b[0m\u001b[0mPrivateAttr\u001b[0m\u001b[0;34m(\u001b[0m\u001b[0;36m0\u001b[0m\u001b[0;34m)\u001b[0m\u001b[0;34m\u001b[0m\u001b[0;34m\u001b[0m\u001b[0m\n\u001b[1;32m      4\u001b[0m \u001b[0;34m\u001b[0m\u001b[0m\n\u001b[0;32m----> 5\u001b[0;31m \u001b[0md\u001b[0m \u001b[0;34m=\u001b[0m \u001b[0mD_underscore\u001b[0m\u001b[0;34m(\u001b[0m\u001b[0;34m)\u001b[0m\u001b[0;34m\u001b[0m\u001b[0;34m\u001b[0m\u001b[0m\n\u001b[0m\u001b[1;32m      6\u001b[0m \u001b[0;31m# setattr(d, \"_test\", 10)\u001b[0m\u001b[0;34m\u001b[0m\u001b[0;34m\u001b[0m\u001b[0;34m\u001b[0m\u001b[0m\n\u001b[1;32m      7\u001b[0m \u001b[0;34m\u001b[0m\u001b[0m\n",
      "\u001b[0;32m~/.local/lib/python3.8/site-packages/pydantic/main.cpython-38-x86_64-linux-gnu.so\u001b[0m in \u001b[0;36mpydantic.main.BaseModel.__init__\u001b[0;34m()\u001b[0m\n",
      "\u001b[0;32m~/.local/lib/python3.8/site-packages/pydantic/main.cpython-38-x86_64-linux-gnu.so\u001b[0m in \u001b[0;36mpydantic.main.BaseModel._init_private_attributes\u001b[0;34m()\u001b[0m\n",
      "\u001b[0;31mAttributeError\u001b[0m: 'int' object has no attribute 'get_default'"
     ]
    }
   ],
   "source": [
    "class D_privateattr(BaseModel):\n",
    "    identifier: str=\"abc\"\n",
    "    _test: int=PrivateAttr(0)\n",
    "        \n",
    "d = D_underscore()\n",
    "# setattr(d, \"_test\", 10)\n",
    "\n",
    "print( d.json(indent=2) )\n",
    "\n",
    "print(\"_test\" in dict(inspect.getmembers(d)))\n",
    "\n",
    "d.__private_attributes__[\"_test\"] = 10\n",
    "\n",
    "print( d.json(indent=2) )"
   ]
  },
  {
   "cell_type": "code",
   "execution_count": 68,
   "metadata": {},
   "outputs": [
    {
     "name": "stdout",
     "output_type": "stream",
     "text": [
      "{'fit': 10}\n"
     ]
    },
    {
     "data": {
      "text/plain": [
       "[('__class__', __main__.D),\n",
       " ('__delattr__', <method-wrapper '__delattr__' of D object at 0x7fb7ee47d850>),\n",
       " ('__dict__', {'fit': 10}),\n",
       " ('__dir__', <function D.__dir__()>),\n",
       " ('__doc__', None),\n",
       " ('__eq__', <method-wrapper '__eq__' of D object at 0x7fb7ee47d850>),\n",
       " ('__format__', <function D.__format__(format_spec, /)>),\n",
       " ('__ge__', <method-wrapper '__ge__' of D object at 0x7fb7ee47d850>),\n",
       " ('__getattribute__',\n",
       "  <method-wrapper '__getattribute__' of D object at 0x7fb7ee47d850>),\n",
       " ('__gt__', <method-wrapper '__gt__' of D object at 0x7fb7ee47d850>),\n",
       " ('__hash__', <method-wrapper '__hash__' of D object at 0x7fb7ee47d850>),\n",
       " ('__init__',\n",
       "  <bound method D.__init__ of <__main__.D object at 0x7fb7ee47d850>>),\n",
       " ('__init_subclass__', <function D.__init_subclass__>),\n",
       " ('__le__', <method-wrapper '__le__' of D object at 0x7fb7ee47d850>),\n",
       " ('__lt__', <method-wrapper '__lt__' of D object at 0x7fb7ee47d850>),\n",
       " ('__module__', '__main__'),\n",
       " ('__ne__', <method-wrapper '__ne__' of D object at 0x7fb7ee47d850>),\n",
       " ('__new__', <function __main__.D.__new__(cls, *args, **kwargs)>),\n",
       " ('__reduce__', <function D.__reduce__()>),\n",
       " ('__reduce_ex__', <function D.__reduce_ex__(protocol, /)>),\n",
       " ('__repr__', <method-wrapper '__repr__' of D object at 0x7fb7ee47d850>),\n",
       " ('__setattr__', <method-wrapper '__setattr__' of D object at 0x7fb7ee47d850>),\n",
       " ('__sizeof__', <function D.__sizeof__()>),\n",
       " ('__str__', <method-wrapper '__str__' of D object at 0x7fb7ee47d850>),\n",
       " ('__subclasshook__', <function D.__subclasshook__>),\n",
       " ('__weakref__', None),\n",
       " ('fit', 10)]"
      ]
     },
     "execution_count": 68,
     "metadata": {},
     "output_type": "execute_result"
    }
   ],
   "source": [
    "class D:\n",
    "    def __new__(cls, *args, **kwargs):\n",
    "        return super().__new__(cls, *args, **kwargs)\n",
    "    \n",
    "    def __init__(self, *args, **kwargs):\n",
    "        setattr(self, \"fit\", 10)\n",
    "    \n",
    "d = D()\n",
    "\n",
    "print( d.__dict__ )\n",
    "\n",
    "# del d.__dict__\n",
    "\n",
    "inspect.getmembers(d)"
   ]
  },
  {
   "cell_type": "code",
   "execution_count": 27,
   "metadata": {},
   "outputs": [
    {
     "data": {
      "text/plain": [
       "[('Config', pydantic.main.BaseConfig),\n",
       " ('__abstractmethods__', frozenset()),\n",
       " ('__annotations__', {'x': str, '_y': str}),\n",
       " ('__class__', __main__.A),\n",
       " ('__class_vars__', set()),\n",
       " ('__config__', __main__.Config),\n",
       " ('__custom_root_type__', False),\n",
       " ('__delattr__', <method-wrapper '__delattr__' of A object at 0x7fb7ee4b7200>),\n",
       " ('__dict__', {'x': 'x'}),\n",
       " ('__dir__', <function A.__dir__()>),\n",
       " ('__doc__', None),\n",
       " ('__eq__', <bound method BaseModel.__eq__ of A(x='x')>),\n",
       " ('__fields__', {'x': ModelField(name='x', type=str, required=True)}),\n",
       " ('__fields_set__', {'x'}),\n",
       " ('__format__', <function A.__format__(format_spec, /)>),\n",
       " ('__ge__', <method-wrapper '__ge__' of A object at 0x7fb7ee4b7200>),\n",
       " ('__get_validators__',\n",
       "  <bound method BaseModel.__get_validators__ of <class '__main__.A'>>),\n",
       " ('__getattribute__',\n",
       "  <method-wrapper '__getattribute__' of A object at 0x7fb7ee4b7200>),\n",
       " ('__getstate__', <bound method BaseModel.__getstate__ of A(x='x')>),\n",
       " ('__gt__', <method-wrapper '__gt__' of A object at 0x7fb7ee4b7200>),\n",
       " ('__hash__', None),\n",
       " ('__init__', <bound method A.__init__ of A(x='x')>),\n",
       " ('__init_subclass__', <function A.__init_subclass__>),\n",
       " ('__iter__', <bound method BaseModel.__iter__ of A(x='x')>),\n",
       " ('__json_encoder__', <cyfunction pydantic_encoder at 0x7fb7fc179790>),\n",
       " ('__le__', <method-wrapper '__le__' of A object at 0x7fb7ee4b7200>),\n",
       " ('__lt__', <method-wrapper '__lt__' of A object at 0x7fb7ee4b7200>),\n",
       " ('__module__', '__main__'),\n",
       " ('__ne__', <method-wrapper '__ne__' of A object at 0x7fb7ee4b7200>),\n",
       " ('__new__', <function object.__new__(*args, **kwargs)>),\n",
       " ('__post_root_validators__', []),\n",
       " ('__pre_root_validators__', []),\n",
       " ('__pretty__', <bound method Representation.__pretty__ of A(x='x')>),\n",
       " ('__private_attributes__',\n",
       "  {'_y': ModelPrivateAttr(default=PydanticUndefined)}),\n",
       " ('__reduce__', <function A.__reduce__()>),\n",
       " ('__reduce_ex__', <function A.__reduce_ex__(protocol, /)>),\n",
       " ('__repr__', <bound method Representation.__repr__ of A(x='x')>),\n",
       " ('__repr_args__', <bound method BaseModel.__repr_args__ of A(x='x')>),\n",
       " ('__repr_name__', <bound method Representation.__repr_name__ of A(x='x')>),\n",
       " ('__repr_str__', <bound method Representation.__repr_str__ of A(x='x')>),\n",
       " ('__schema_cache__', {}),\n",
       " ('__setattr__', <bound method BaseModel.__setattr__ of A(x='x')>),\n",
       " ('__setstate__', <bound method BaseModel.__setstate__ of A(x='x')>),\n",
       " ('__sizeof__', <function A.__sizeof__()>),\n",
       " ('__slots__', {'_y'}),\n",
       " ('__str__', <bound method Representation.__str__ of A(x='x')>),\n",
       " ('__subclasshook__', <function A.__subclasshook__>),\n",
       " ('__validators__', {}),\n",
       " ('_abc_impl', <_abc_data at 0x7fb7ee5222d0>),\n",
       " ('_calculate_keys', <bound method BaseModel._calculate_keys of A(x='x')>),\n",
       " ('_decompose_class',\n",
       "  <bound method BaseModel._decompose_class of <class '__main__.A'>>),\n",
       " ('_enforce_dict_if_root',\n",
       "  <bound method BaseModel._enforce_dict_if_root of <class '__main__.A'>>),\n",
       " ('_get_value', <bound method BaseModel._get_value of <class '__main__.A'>>),\n",
       " ('_init_private_attributes',\n",
       "  <bound method BaseModel._init_private_attributes of A(x='x')>),\n",
       " ('_iter', <bound method BaseModel._iter of A(x='x')>),\n",
       " ('config', __main__.A.config),\n",
       " ('construct', <bound method BaseModel.construct of <class '__main__.A'>>),\n",
       " ('copy', <bound method BaseModel.copy of A(x='x')>),\n",
       " ('dict', <bound method BaseModel.dict of A(x='x')>),\n",
       " ('from_orm', <bound method BaseModel.from_orm of <class '__main__.A'>>),\n",
       " ('json', <bound method BaseModel.json of A(x='x')>),\n",
       " ('parse_file', <bound method BaseModel.parse_file of <class '__main__.A'>>),\n",
       " ('parse_obj', <bound method BaseModel.parse_obj of <class '__main__.A'>>),\n",
       " ('parse_raw', <bound method BaseModel.parse_raw of <class '__main__.A'>>),\n",
       " ('schema', <bound method BaseModel.schema of <class '__main__.A'>>),\n",
       " ('schema_json', <bound method BaseModel.schema_json of <class '__main__.A'>>),\n",
       " ('update_forward_refs',\n",
       "  <bound method BaseModel.update_forward_refs of <class '__main__.A'>>),\n",
       " ('validate', <bound method BaseModel.validate of <class '__main__.A'>>),\n",
       " ('x', 'x')]"
      ]
     },
     "execution_count": 27,
     "metadata": {},
     "output_type": "execute_result"
    }
   ],
   "source": [
    "import inspect\n",
    "inspect.getmembers(a)"
   ]
  },
  {
   "cell_type": "code",
   "execution_count": null,
   "metadata": {},
   "outputs": [],
   "source": []
  },
  {
   "cell_type": "code",
   "execution_count": 23,
   "metadata": {},
   "outputs": [
    {
     "name": "stdout",
     "output_type": "stream",
     "text": [
      "{'fake': 'news'}\n",
      "{'fake': 'news'}\n",
      "Hi\n",
      "Hi\n",
      "Hi\n",
      "None\n"
     ]
    },
    {
     "ename": "AttributeError",
     "evalue": "grades",
     "output_type": "error",
     "traceback": [
      "\u001b[0;31m---------------------------------------------------------------------------\u001b[0m",
      "\u001b[0;31mAttributeError\u001b[0m                            Traceback (most recent call last)",
      "\u001b[0;32m<ipython-input-23-6b9c0378491a>\u001b[0m in \u001b[0;36m<module>\u001b[0;34m\u001b[0m\n\u001b[1;32m     30\u001b[0m \u001b[0mprint\u001b[0m\u001b[0;34m(\u001b[0m \u001b[0mwest\u001b[0m\u001b[0;34m.\u001b[0m\u001b[0m_hidden\u001b[0m \u001b[0;34m)\u001b[0m\u001b[0;34m\u001b[0m\u001b[0;34m\u001b[0m\u001b[0m\n\u001b[1;32m     31\u001b[0m \u001b[0;34m\u001b[0m\u001b[0m\n\u001b[0;32m---> 32\u001b[0;31m \u001b[0;32mdel\u001b[0m \u001b[0meast\u001b[0m\u001b[0;34m.\u001b[0m\u001b[0mgrades\u001b[0m\u001b[0;34m\u001b[0m\u001b[0;34m\u001b[0m\u001b[0m\n\u001b[0m",
      "\u001b[0;31mAttributeError\u001b[0m: grades"
     ]
    }
   ],
   "source": [
    "class Test(BaseModel):\n",
    "    _hidden: str=\"Hi\"\n",
    "    class Config:\n",
    "        extra = Extra.allow\n",
    "        arbitrary_types_allowed = True\n",
    "        validate_assignment = True\n",
    "        \n",
    "    def grades():\n",
    "        pass\n",
    "\n",
    "\n",
    "east = Test()\n",
    "east.fake = \"news\"\n",
    "east.hello = {\"a\": \"A\", \"b\":\"B\"}\n",
    "\n",
    "import copy\n",
    "\n",
    "west = copy.copy( east )\n",
    "del west.hello\n",
    "\n",
    "print( east.__dict__ )\n",
    "print( west.__dict__ )\n",
    "\n",
    "print( east._hidden )\n",
    "print( west._hidden )\n",
    "\n",
    "west._hidden = None\n",
    "\n",
    "print( east._hidden )\n",
    "print( west._hidden )\n",
    "\n",
    "del east.grades"
   ]
  },
  {
   "cell_type": "code",
   "execution_count": 29,
   "metadata": {},
   "outputs": [
    {
     "ename": "AttributeError",
     "evalue": "'Test' object has no attribute 'removefunc'",
     "output_type": "error",
     "traceback": [
      "\u001b[0;31m---------------------------------------------------------------------------\u001b[0m",
      "\u001b[0;31mAttributeError\u001b[0m                            Traceback (most recent call last)",
      "\u001b[0;32m<ipython-input-29-340950dda270>\u001b[0m in \u001b[0;36m<module>\u001b[0;34m\u001b[0m\n\u001b[1;32m      7\u001b[0m \u001b[0;32mdel\u001b[0m \u001b[0mTest\u001b[0m\u001b[0;34m.\u001b[0m\u001b[0mremovefunc\u001b[0m\u001b[0;34m\u001b[0m\u001b[0;34m\u001b[0m\u001b[0m\n\u001b[1;32m      8\u001b[0m \u001b[0;34m\u001b[0m\u001b[0m\n\u001b[0;32m----> 9\u001b[0;31m \u001b[0mtest\u001b[0m\u001b[0;34m.\u001b[0m\u001b[0mremovefunc\u001b[0m\u001b[0;34m\u001b[0m\u001b[0;34m\u001b[0m\u001b[0m\n\u001b[0m",
      "\u001b[0;31mAttributeError\u001b[0m: 'Test' object has no attribute 'removefunc'"
     ]
    }
   ],
   "source": [
    "class Test:\n",
    "    def removefunc():\n",
    "        pass\n",
    "    \n",
    "test = Test()\n",
    "\n",
    "del Test.removefunc\n",
    "\n",
    "test.removefunc"
   ]
  },
  {
   "cell_type": "code",
   "execution_count": 18,
   "metadata": {},
   "outputs": [
    {
     "data": {
      "text/plain": [
       "[('Config', __main__.Test.Config),\n",
       " ('__abstractmethods__', frozenset()),\n",
       " ('__annotations__', {'_hidden': str}),\n",
       " ('__class__', __main__.Test),\n",
       " ('__config__', __main__.Config),\n",
       " ('__custom_root_type__', False),\n",
       " ('__delattr__',\n",
       "  <method-wrapper '__delattr__' of Test object at 0x7f3fcac0efd0>),\n",
       " ('__dict__', {'fake': 'news'}),\n",
       " ('__dir__', <function Test.__dir__()>),\n",
       " ('__doc__', None),\n",
       " ('__eq__', <bound method BaseModel.__eq__ of Test(fake='news')>),\n",
       " ('__fields__', {}),\n",
       " ('__fields_set__', {'fake', 'hello'}),\n",
       " ('__format__', <function Test.__format__(format_spec, /)>),\n",
       " ('__ge__', <method-wrapper '__ge__' of Test object at 0x7f3fcac0efd0>),\n",
       " ('__get_validators__',\n",
       "  <bound method BaseModel.__get_validators__ of <class '__main__.Test'>>),\n",
       " ('__getattribute__',\n",
       "  <method-wrapper '__getattribute__' of Test object at 0x7f3fcac0efd0>),\n",
       " ('__getstate__', <bound method BaseModel.__getstate__ of Test(fake='news')>),\n",
       " ('__gt__', <method-wrapper '__gt__' of Test object at 0x7f3fcac0efd0>),\n",
       " ('__hash__', None),\n",
       " ('__init__', <bound method BaseModel.__init__ of Test(fake='news')>),\n",
       " ('__init_subclass__', <function Test.__init_subclass__>),\n",
       " ('__iter__', <bound method BaseModel.__iter__ of Test(fake='news')>),\n",
       " ('__json_encoder__', <cyfunction pydantic_encoder at 0x7f3fcae8ae10>),\n",
       " ('__le__', <method-wrapper '__le__' of Test object at 0x7f3fcac0efd0>),\n",
       " ('__lt__', <method-wrapper '__lt__' of Test object at 0x7f3fcac0efd0>),\n",
       " ('__module__', '__main__'),\n",
       " ('__ne__', <method-wrapper '__ne__' of Test object at 0x7f3fcac0efd0>),\n",
       " ('__new__', <function object.__new__(*args, **kwargs)>),\n",
       " ('__post_root_validators__', []),\n",
       " ('__pre_root_validators__', []),\n",
       " ('__pretty__', <bound method Representation.__pretty__ of Test(fake='news')>),\n",
       " ('__private_attributes__', {}),\n",
       " ('__reduce__', <function Test.__reduce__()>),\n",
       " ('__reduce_ex__', <function Test.__reduce_ex__(protocol, /)>),\n",
       " ('__repr__', <bound method Representation.__repr__ of Test(fake='news')>),\n",
       " ('__repr_args__',\n",
       "  <bound method BaseModel.__repr_args__ of Test(fake='news')>),\n",
       " ('__repr_name__',\n",
       "  <bound method Representation.__repr_name__ of Test(fake='news')>),\n",
       " ('__repr_str__',\n",
       "  <bound method Representation.__repr_str__ of Test(fake='news')>),\n",
       " ('__schema_cache__', {}),\n",
       " ('__setattr__', <bound method BaseModel.__setattr__ of Test(fake='news')>),\n",
       " ('__setstate__', <bound method BaseModel.__setstate__ of Test(fake='news')>),\n",
       " ('__sizeof__', <function Test.__sizeof__()>),\n",
       " ('__slots__', set()),\n",
       " ('__str__', <bound method Representation.__str__ of Test(fake='news')>),\n",
       " ('__subclasshook__', <function Test.__subclasshook__>),\n",
       " ('__validators__', {}),\n",
       " ('__values__', {'fake': 'news'}),\n",
       " ('_abc_impl', <_abc_data at 0x7f3fcac0ef00>),\n",
       " ('_calculate_keys',\n",
       "  <bound method BaseModel._calculate_keys of Test(fake='news')>),\n",
       " ('_decompose_class',\n",
       "  <bound method BaseModel._decompose_class of <class '__main__.Test'>>),\n",
       " ('_get_value',\n",
       "  <bound method BaseModel._get_value of <class '__main__.Test'>>),\n",
       " ('_hidden', 'Hi'),\n",
       " ('_init_private_attributes',\n",
       "  <bound method BaseModel._init_private_attributes of Test(fake='news')>),\n",
       " ('_iter', <bound method BaseModel._iter of Test(fake='news')>),\n",
       " ('construct', <bound method BaseModel.construct of <class '__main__.Test'>>),\n",
       " ('copy', <bound method BaseModel.copy of Test(fake='news')>),\n",
       " ('dict', <bound method BaseModel.dict of Test(fake='news')>),\n",
       " ('fake', 'news'),\n",
       " ('fields', {}),\n",
       " ('from_orm', <bound method BaseModel.from_orm of <class '__main__.Test'>>),\n",
       " ('json', <bound method BaseModel.json of Test(fake='news')>),\n",
       " ('parse_file',\n",
       "  <bound method BaseModel.parse_file of <class '__main__.Test'>>),\n",
       " ('parse_obj', <bound method BaseModel.parse_obj of <class '__main__.Test'>>),\n",
       " ('parse_raw', <bound method BaseModel.parse_raw of <class '__main__.Test'>>),\n",
       " ('schema', <bound method BaseModel.schema of <class '__main__.Test'>>),\n",
       " ('schema_json',\n",
       "  <bound method BaseModel.schema_json of <class '__main__.Test'>>),\n",
       " ('to_string', <bound method BaseModel.to_string of Test(fake='news')>),\n",
       " ('update_forward_refs',\n",
       "  <bound method BaseModel.update_forward_refs of <class '__main__.Test'>>),\n",
       " ('validate', <bound method BaseModel.validate of <class '__main__.Test'>>)]"
      ]
     },
     "execution_count": 18,
     "metadata": {},
     "output_type": "execute_result"
    }
   ],
   "source": [
    "import inspect\n",
    "inspect.getmembers(east)"
   ]
  },
  {
   "cell_type": "code",
   "execution_count": 30,
   "metadata": {},
   "outputs": [
    {
     "data": {
      "text/plain": [
       "[('Config', __main__.Test.Config),\n",
       " ('__abstractmethods__', frozenset()),\n",
       " ('__annotations__', {'_hidden': str}),\n",
       " ('__class__', __main__.Test),\n",
       " ('__config__', __main__.Config),\n",
       " ('__custom_root_type__', False),\n",
       " ('__delattr__',\n",
       "  <method-wrapper '__delattr__' of Test object at 0x7f3fcab4bb80>),\n",
       " ('__dict__', {'fake': 'news', '_hidden': None}),\n",
       " ('__dir__', <function Test.__dir__()>),\n",
       " ('__doc__', None),\n",
       " ('__eq__',\n",
       "  <bound method BaseModel.__eq__ of Test(fake='news', _hidden=None)>),\n",
       " ('__fields__', {}),\n",
       " ('__fields_set__', {'_hidden', 'fake', 'hello'}),\n",
       " ('__format__', <function Test.__format__(format_spec, /)>),\n",
       " ('__ge__', <method-wrapper '__ge__' of Test object at 0x7f3fcab4bb80>),\n",
       " ('__get_validators__',\n",
       "  <bound method BaseModel.__get_validators__ of <class '__main__.Test'>>),\n",
       " ('__getattribute__',\n",
       "  <method-wrapper '__getattribute__' of Test object at 0x7f3fcab4bb80>),\n",
       " ('__getstate__',\n",
       "  <bound method BaseModel.__getstate__ of Test(fake='news', _hidden=None)>),\n",
       " ('__gt__', <method-wrapper '__gt__' of Test object at 0x7f3fcab4bb80>),\n",
       " ('__hash__', None),\n",
       " ('__init__',\n",
       "  <bound method BaseModel.__init__ of Test(fake='news', _hidden=None)>),\n",
       " ('__init_subclass__', <function Test.__init_subclass__>),\n",
       " ('__iter__',\n",
       "  <bound method BaseModel.__iter__ of Test(fake='news', _hidden=None)>),\n",
       " ('__json_encoder__', <cyfunction pydantic_encoder at 0x7f3fcae8ae10>),\n",
       " ('__le__', <method-wrapper '__le__' of Test object at 0x7f3fcab4bb80>),\n",
       " ('__lt__', <method-wrapper '__lt__' of Test object at 0x7f3fcab4bb80>),\n",
       " ('__module__', '__main__'),\n",
       " ('__ne__', <method-wrapper '__ne__' of Test object at 0x7f3fcab4bb80>),\n",
       " ('__new__', <function object.__new__(*args, **kwargs)>),\n",
       " ('__post_root_validators__', []),\n",
       " ('__pre_root_validators__', []),\n",
       " ('__pretty__',\n",
       "  <bound method Representation.__pretty__ of Test(fake='news', _hidden=None)>),\n",
       " ('__private_attributes__', {}),\n",
       " ('__reduce__', <function Test.__reduce__()>),\n",
       " ('__reduce_ex__', <function Test.__reduce_ex__(protocol, /)>),\n",
       " ('__repr__',\n",
       "  <bound method Representation.__repr__ of Test(fake='news', _hidden=None)>),\n",
       " ('__repr_args__',\n",
       "  <bound method BaseModel.__repr_args__ of Test(fake='news', _hidden=None)>),\n",
       " ('__repr_name__',\n",
       "  <bound method Representation.__repr_name__ of Test(fake='news', _hidden=None)>),\n",
       " ('__repr_str__',\n",
       "  <bound method Representation.__repr_str__ of Test(fake='news', _hidden=None)>),\n",
       " ('__schema_cache__', {}),\n",
       " ('__setattr__',\n",
       "  <bound method BaseModel.__setattr__ of Test(fake='news', _hidden=None)>),\n",
       " ('__setstate__',\n",
       "  <bound method BaseModel.__setstate__ of Test(fake='news', _hidden=None)>),\n",
       " ('__sizeof__', <function Test.__sizeof__()>),\n",
       " ('__slots__', set()),\n",
       " ('__str__',\n",
       "  <bound method Representation.__str__ of Test(fake='news', _hidden=None)>),\n",
       " ('__subclasshook__', <function Test.__subclasshook__>),\n",
       " ('__validators__', {}),\n",
       " ('__values__', {'fake': 'news', '_hidden': None}),\n",
       " ('_abc_impl', <_abc_data at 0x7f3fcab4ba80>),\n",
       " ('_calculate_keys',\n",
       "  <bound method BaseModel._calculate_keys of Test(fake='news', _hidden=None)>),\n",
       " ('_decompose_class',\n",
       "  <bound method BaseModel._decompose_class of <class '__main__.Test'>>),\n",
       " ('_get_value',\n",
       "  <bound method BaseModel._get_value of <class '__main__.Test'>>),\n",
       " ('_hidden', None),\n",
       " ('_init_private_attributes',\n",
       "  <bound method BaseModel._init_private_attributes of Test(fake='news', _hidden=None)>),\n",
       " ('_iter', <bound method BaseModel._iter of Test(fake='news', _hidden=None)>),\n",
       " ('construct', <bound method BaseModel.construct of <class '__main__.Test'>>),\n",
       " ('copy', <bound method BaseModel.copy of Test(fake='news', _hidden=None)>),\n",
       " ('dict', <bound method BaseModel.dict of Test(fake='news', _hidden=None)>),\n",
       " ('fake', 'news'),\n",
       " ('fields', {}),\n",
       " ('from_orm', <bound method BaseModel.from_orm of <class '__main__.Test'>>),\n",
       " ('grades', <bound method Test.grades of Test(fake='news', _hidden=None)>),\n",
       " ('json', <bound method BaseModel.json of Test(fake='news', _hidden=None)>),\n",
       " ('parse_file',\n",
       "  <bound method BaseModel.parse_file of <class '__main__.Test'>>),\n",
       " ('parse_obj', <bound method BaseModel.parse_obj of <class '__main__.Test'>>),\n",
       " ('parse_raw', <bound method BaseModel.parse_raw of <class '__main__.Test'>>),\n",
       " ('schema', <bound method BaseModel.schema of <class '__main__.Test'>>),\n",
       " ('schema_json',\n",
       "  <bound method BaseModel.schema_json of <class '__main__.Test'>>),\n",
       " ('to_string',\n",
       "  <bound method BaseModel.to_string of Test(fake='news', _hidden=None)>),\n",
       " ('update_forward_refs',\n",
       "  <bound method BaseModel.update_forward_refs of <class '__main__.Test'>>),\n",
       " ('validate', <bound method BaseModel.validate of <class '__main__.Test'>>)]"
      ]
     },
     "execution_count": 30,
     "metadata": {},
     "output_type": "execute_result"
    }
   ],
   "source": [
    "inspect.getmembers(west)"
   ]
  },
  {
   "cell_type": "code",
   "execution_count": 4,
   "metadata": {},
   "outputs": [
    {
     "data": {
      "text/plain": [
       "(pydantic.main.ModelMetaclass, abc.ABCMeta, type)"
      ]
     },
     "execution_count": 4,
     "metadata": {},
     "output_type": "execute_result"
    }
   ],
   "source": [
    "Phone.__class__.__mro__[:-1]"
   ]
  },
  {
   "cell_type": "code",
   "execution_count": null,
   "metadata": {},
   "outputs": [],
   "source": []
  },
  {
   "cell_type": "code",
   "execution_count": null,
   "metadata": {},
   "outputs": [],
   "source": [
    "iphone.__class__.__mro__[:-1]"
   ]
  },
  {
   "cell_type": "code",
   "execution_count": 10,
   "metadata": {},
   "outputs": [
    {
     "data": {
      "text/plain": [
       "pydantic.main.ModelMetaclass"
      ]
     },
     "execution_count": 10,
     "metadata": {},
     "output_type": "execute_result"
    }
   ],
   "source": [
    "type(Phone)"
   ]
  },
  {
   "cell_type": "code",
   "execution_count": 21,
   "metadata": {
    "scrolled": true
   },
   "outputs": [
    {
     "data": {
      "text/plain": [
       "__main__.UserDefined"
      ]
     },
     "execution_count": 21,
     "metadata": {},
     "output_type": "execute_result"
    }
   ],
   "source": [
    "UserDefined"
   ]
  },
  {
   "cell_type": "code",
   "execution_count": null,
   "metadata": {},
   "outputs": [],
   "source": []
  },
  {
   "cell_type": "code",
   "execution_count": 30,
   "metadata": {},
   "outputs": [
    {
     "name": "stdout",
     "output_type": "stream",
     "text": [
      "Happy Birthday Called\n",
      "Encoding Something\n",
      "Happy Birthday Called\n",
      "{\n",
      "  \"name\": \"Timon\",\n",
      "  \"SSN\": 123,\n",
      "  \"birthday\": 738907200.0,\n",
      "  \"phone\": {\n",
      "    \"manufacturer\": \"Apple\",\n",
      "    \"number\": 18002752273\n",
      "  },\n",
      "  \"other\": 10,\n",
      "  \"friend\": {\n",
      "    \"name\": \"Pumbaa\",\n",
      "    \"SSN\": 234,\n",
      "    \"birthday\": 737438400.0,\n",
      "    \"phone\": {\n",
      "      \"manufacturer\": \"Samsung\",\n",
      "      \"number\": 18007267864\n",
      "    },\n",
      "    \"other\": null,\n",
      "    \"friend\": null\n",
      "  }\n",
      "}\n"
     ]
    }
   ],
   "source": [
    "from pydantic import BaseModel\n",
    "from datetime import datetime\n",
    "\n",
    "class Phone(BaseModel):\n",
    "    manufacturer: str\n",
    "    number: int\n",
    "        \n",
    "class UserDefined:\n",
    "    pass\n",
    "\n",
    "def birthdayencode(v):\n",
    "    print(\"Happy Birthday Called\")\n",
    "    return v.timestamp()\n",
    "\n",
    "def phoneencode(v):\n",
    "    print(\"Encoding Phone\")\n",
    "    return v.number\n",
    "\n",
    "def userdefinedencode(v):\n",
    "    print(\"Encoding Something\")\n",
    "    return v.x\n",
    "\n",
    "class User(BaseModel):\n",
    "    name: str\n",
    "    SSN: int\n",
    "    birthday: datetime\n",
    "    phone: Phone\n",
    "    other: UserDefined=None\n",
    "    friend: \"User\"=None\n",
    "        \n",
    "    class Config:\n",
    "        arbitrary_types_allowed = True\n",
    "        json_encoders = {\n",
    "            BaseModel: lambda v: v.SSN,\n",
    "            datetime: birthdayencode,\n",
    "            Phone: phoneencode,\n",
    "            UserDefined: userdefinedencode,\n",
    "            \"User\": lambda v: v.SSN\n",
    "        }\n",
    "        \n",
    "User.update_forward_refs()\n",
    "\n",
    "User.Config.json_encoders.update({\n",
    "    User: lambda v: v.SSN\n",
    "})\n",
    "        \n",
    "    \n",
    "something = UserDefined()\n",
    "something.x = 10\n",
    "\n",
    "iphone = Phone(manufacturer=\"Apple\", number=18002752273, other=something)\n",
    "galaxy = Phone(manufacturer=\"Samsung\", number=18007267864)\n",
    "\n",
    "bday1 = datetime(1993, 6, 1)\n",
    "        \n",
    "timon = User(name=\"Timon\", SSN=123, birthday=bday1, phone=iphone, other=something)\n",
    "pumbaa = User(name=\"Pumbaa\", SSN=234, birthday=datetime(1993, 5, 15), phone=galaxy)\n",
    "\n",
    "timon.friend = pumbaa\n",
    "# pumbaa.friend = timon\n",
    "\n",
    "print( timon.json(indent=2) )"
   ]
  },
  {
   "cell_type": "code",
   "execution_count": 17,
   "metadata": {},
   "outputs": [
    {
     "name": "stdout",
     "output_type": "stream",
     "text": [
      "SUCCESS <class '__main__.Phone'>\n"
     ]
    }
   ],
   "source": [
    "json_encoders = {\n",
    "    datetime: lambda v: v.timestamp(),\n",
    "    Phone: lambda v: v.number if v else None,\n",
    "    \"User\": lambda v: v.SSN\n",
    "}\n",
    "\n",
    "for base in iphone.__class__.__mro__[:-1]:\n",
    "    try:\n",
    "        json_encoders[base]\n",
    "        print(\"SUCCESS\", base)\n",
    "        break\n",
    "    except KeyError:\n",
    "        continue\n",
    "        \n"
   ]
  },
  {
   "cell_type": "code",
   "execution_count": 34,
   "metadata": {},
   "outputs": [
    {
     "data": {
      "text/plain": [
       "{'foo': {'nick': 'nonick', 'name': 'Jane Doe'}}"
      ]
     },
     "execution_count": 34,
     "metadata": {},
     "output_type": "execute_result"
    }
   ],
   "source": [
    "from pydantic import BaseModel\n",
    "\n",
    "\n",
    "class Foo(BaseModel):\n",
    "    name = 'Jane Doe'\n",
    "    nick: str\n",
    "\n",
    "\n",
    "class Spam(BaseModel):\n",
    "    foo: Foo = Foo(nick=\"nonick\")\n",
    "\n",
    "        \n",
    "Spam.parse_obj()"
   ]
  },
  {
   "cell_type": "markdown",
   "metadata": {},
   "source": [
    "# Testing Enums"
   ]
  },
  {
   "cell_type": "code",
   "execution_count": 52,
   "metadata": {},
   "outputs": [
    {
     "data": {
      "text/plain": [
       "['test']"
      ]
     },
     "execution_count": 52,
     "metadata": {},
     "output_type": "execute_result"
    }
   ],
   "source": [
    "\"test\".split(\" \")"
   ]
  },
  {
   "cell_type": "code",
   "execution_count": 51,
   "metadata": {},
   "outputs": [
    {
     "ename": "KeyError",
     "evalue": "'a'",
     "output_type": "error",
     "traceback": [
      "\u001b[0;31m---------------------------------------------------------------------------\u001b[0m",
      "\u001b[0;31mKeyError\u001b[0m                                  Traceback (most recent call last)",
      "\u001b[0;32m<ipython-input-51-1f486dbb615e>\u001b[0m in \u001b[0;36m<module>\u001b[0;34m\u001b[0m\n\u001b[1;32m     10\u001b[0m \u001b[0;34m\u001b[0m\u001b[0m\n\u001b[1;32m     11\u001b[0m \u001b[0mTest\u001b[0m\u001b[0;34m(\u001b[0m\u001b[0mthe_map\u001b[0m\u001b[0;34m=\u001b[0m\u001b[0;34m{\u001b[0m\u001b[0;34m\"a\"\u001b[0m\u001b[0;34m:\u001b[0m \u001b[0;36m1\u001b[0m\u001b[0;34m,\u001b[0m \u001b[0;34m\"b\"\u001b[0m\u001b[0;34m:\u001b[0m \u001b[0;36m2\u001b[0m\u001b[0;34m}\u001b[0m\u001b[0;34m)\u001b[0m\u001b[0;34m.\u001b[0m\u001b[0mthe_map\u001b[0m\u001b[0;34m[\u001b[0m\u001b[0mallKeys\u001b[0m\u001b[0;34m.\u001b[0m\u001b[0ma\u001b[0m\u001b[0;34m]\u001b[0m \u001b[0;31m# this works\u001b[0m\u001b[0;34m\u001b[0m\u001b[0;34m\u001b[0m\u001b[0m\n\u001b[0;32m---> 12\u001b[0;31m \u001b[0mTest\u001b[0m\u001b[0;34m(\u001b[0m\u001b[0mthe_map\u001b[0m\u001b[0;34m=\u001b[0m\u001b[0;34m{\u001b[0m\u001b[0;34m\"a\"\u001b[0m\u001b[0;34m:\u001b[0m \u001b[0;36m1\u001b[0m\u001b[0;34m,\u001b[0m \u001b[0;34m\"b\"\u001b[0m\u001b[0;34m:\u001b[0m \u001b[0;36m2\u001b[0m\u001b[0;34m}\u001b[0m\u001b[0;34m)\u001b[0m\u001b[0;34m.\u001b[0m\u001b[0mthe_map\u001b[0m\u001b[0;34m[\u001b[0m\u001b[0;34m\"a\"\u001b[0m\u001b[0;34m]\u001b[0m \u001b[0;31m# this also works\u001b[0m\u001b[0;34m\u001b[0m\u001b[0;34m\u001b[0m\u001b[0m\n\u001b[0m",
      "\u001b[0;31mKeyError\u001b[0m: 'a'"
     ]
    }
   ],
   "source": [
    "createEnum = lambda L: Enum(\"dynamic\", {str(val): val for i, val in enumerate(L)})\n",
    "\n",
    "allKeys = \"a b c d\".split(\" \")\n",
    "allKeys = createEnum(allKeys)\n",
    "\n",
    "\n",
    "class Test(BaseModel):\n",
    "    the_map: Dict[allKeys, Any]\n",
    "\n",
    "\n",
    "Test(the_map={\"a\": 1, \"b\": 2}).the_map[allKeys.a] # this works\n",
    "Test(the_map={\"a\": 1, \"b\": 2}).the_map[\"a\"] # this also works"
   ]
  },
  {
   "cell_type": "code",
   "execution_count": 24,
   "metadata": {},
   "outputs": [
    {
     "data": {
      "text/plain": [
       "('a', 1)"
      ]
     },
     "execution_count": 24,
     "metadata": {},
     "output_type": "execute_result"
    }
   ],
   "source": [
    "the_map = {\"a\": \"a\", 1: 1, (\"a\", 1): (\"a\", 1)}\n",
    "\n",
    "assert set( the_map.keys() ).issubset( {\"a\", 1, (\"a\", 1)} )\n",
    "\n",
    "the_map[(\"a\", 1)]"
   ]
  },
  {
   "cell_type": "code",
   "execution_count": 25,
   "metadata": {},
   "outputs": [
    {
     "data": {
      "text/plain": [
       "{('a', 1): 2}"
      ]
     },
     "execution_count": 25,
     "metadata": {},
     "output_type": "execute_result"
    }
   ],
   "source": [
    "valid_keys = {\"a\", 1, (\"a\", 1)}\n",
    "allKeys = Enum(\"allKeys\", {str(i): x for i, x in enumerate(list(valid_keys))})\n",
    "\n",
    "class Test(BaseModel):\n",
    "    the_map: Dict[allKeys, Any]\n",
    "        \n",
    "    class Config:\n",
    "        use_enum_values = True\n",
    "\n",
    "assert Test(the_map={'a': 1}).the_map['a'] == 1\n",
    "assert Test(the_map={('a', 1): 2}).the_map[('a', 1)] == 2\n",
    "\n",
    "\n",
    "Test(the_map={('a', 1): 2}).the_map"
   ]
  },
  {
   "cell_type": "code",
   "execution_count": 26,
   "metadata": {},
   "outputs": [
    {
     "data": {
      "text/plain": [
       "<enum 'allKeys'>"
      ]
     },
     "execution_count": 26,
     "metadata": {},
     "output_type": "execute_result"
    }
   ],
   "source": [
    "from enum import IntEnum\n",
    "\n",
    "Enum(\"allKeys\", {str(i):v for i,v in enumerate(list(\"abcd\"))})"
   ]
  },
  {
   "cell_type": "code",
   "execution_count": 30,
   "metadata": {},
   "outputs": [
    {
     "name": "stdout",
     "output_type": "stream",
     "text": [
      "Validation successful\n"
     ]
    }
   ],
   "source": [
    "valid_keys = {\"a\", 1, (\"a\", 1)}\n",
    "allKeys = Enum(\"allKeys\", {str(i): x for i, x in enumerate(list(valid_keys))})\n",
    "\n",
    "class Test(BaseModel):\n",
    "    the_map: Dict[allKeys, Any]\n",
    "    items: List[allKeys] = list()\n",
    "\n",
    "    class Config:\n",
    "        use_enum_values = True\n",
    "\n",
    "assert Test(the_map={'a': 1}).the_map['a'] == 1\n",
    "assert Test(the_map={('a', 1): 2}).the_map[('a', 1)] == 2\n",
    "\n",
    "\n",
    "try:\n",
    "    Test(the_map={'b': 1})\n",
    "except:\n",
    "    print(\"Validation successful\")"
   ]
  },
  {
   "cell_type": "code",
   "execution_count": 31,
   "metadata": {},
   "outputs": [
    {
     "ename": "TypeError",
     "evalue": "unhashable type: 'BaseModel'",
     "output_type": "error",
     "traceback": [
      "\u001b[0;31m---------------------------------------------------------------------------\u001b[0m",
      "\u001b[0;31mTypeError\u001b[0m                                 Traceback (most recent call last)",
      "\u001b[0;32m<ipython-input-31-8465763ee9af>\u001b[0m in \u001b[0;36m<module>\u001b[0;34m\u001b[0m\n\u001b[0;32m----> 1\u001b[0;31m \u001b[0;34m{\u001b[0m\u001b[0mBaseModel\u001b[0m\u001b[0;34m(\u001b[0m\u001b[0;34m)\u001b[0m\u001b[0;34m}\u001b[0m\u001b[0;34m\u001b[0m\u001b[0;34m\u001b[0m\u001b[0m\n\u001b[0m",
      "\u001b[0;31mTypeError\u001b[0m: unhashable type: 'BaseModel'"
     ]
    }
   ],
   "source": [
    "{BaseModel()}"
   ]
  },
  {
   "cell_type": "markdown",
   "metadata": {},
   "source": [
    "# How to Dynamically create classes"
   ]
  },
  {
   "cell_type": "code",
   "execution_count": 8,
   "metadata": {},
   "outputs": [
    {
     "name": "stdout",
     "output_type": "stream",
     "text": [
      "Can check class exists\n",
      "Can init\n",
      "Risky init\n"
     ]
    },
    {
     "data": {
      "text/plain": [
       "<__main__.Document at 0x7fd0d4428130>"
      ]
     },
     "execution_count": 8,
     "metadata": {},
     "output_type": "execute_result"
    }
   ],
   "source": [
    "class A:\n",
    "    pass\n",
    "\n",
    "mytypes = {\n",
    "    \"Document\": type(\"Document\", (object,), {\n",
    "        \"__init__\": lambda self, x: print(x)\n",
    "    }),\n",
    "    \"User\": type(\"User\", (object,), {\n",
    "        \"__init__\": lambda self, x: print(x)\n",
    "    })\n",
    "}\n",
    "\n",
    "all_classes = [val for key, val in mytypes.items()]\n",
    "\n",
    "try:\n",
    "    assert A in all_classes\n",
    "except:\n",
    "    assert mytypes[\"Document\"] in all_classes\n",
    "    print(\"Can check class exists\")\n",
    "    \n",
    "mytypes[\"Document\"](\"Can init\")\n",
    "\n",
    "globals()[\"Document\"] = mytypes[\"Document\"]\n",
    "\n",
    "Document(\"Risky init\")"
   ]
  },
  {
   "cell_type": "markdown",
   "metadata": {},
   "source": [
    "# Checking whether python type hints change how a class behaves"
   ]
  },
  {
   "cell_type": "code",
   "execution_count": 101,
   "metadata": {},
   "outputs": [
    {
     "name": "stdout",
     "output_type": "stream",
     "text": [
      "test\n"
     ]
    },
    {
     "ename": "TypeError",
     "evalue": "A() takes no arguments",
     "output_type": "error",
     "traceback": [
      "\u001b[0;31m---------------------------------------------------------------------------\u001b[0m",
      "\u001b[0;31mTypeError\u001b[0m                                 Traceback (most recent call last)",
      "\u001b[0;32m<ipython-input-101-fe774dae24da>\u001b[0m in \u001b[0;36m<module>\u001b[0;34m\u001b[0m\n\u001b[1;32m      6\u001b[0m \u001b[0ma\u001b[0m \u001b[0;34m=\u001b[0m \u001b[0mA\u001b[0m\u001b[0;34m(\u001b[0m\u001b[0;34m)\u001b[0m\u001b[0;34m\u001b[0m\u001b[0;34m\u001b[0m\u001b[0m\n\u001b[1;32m      7\u001b[0m \u001b[0mprint\u001b[0m\u001b[0;34m(\u001b[0m\u001b[0ma\u001b[0m\u001b[0;34m.\u001b[0m\u001b[0mtest\u001b[0m\u001b[0;34m)\u001b[0m\u001b[0;34m\u001b[0m\u001b[0;34m\u001b[0m\u001b[0m\n\u001b[0;32m----> 8\u001b[0;31m \u001b[0ma\u001b[0m \u001b[0;34m=\u001b[0m \u001b[0mA\u001b[0m\u001b[0;34m(\u001b[0m\u001b[0mtest\u001b[0m\u001b[0;34m=\u001b[0m\u001b[0;34m\"test\"\u001b[0m\u001b[0;34m)\u001b[0m\u001b[0;34m\u001b[0m\u001b[0;34m\u001b[0m\u001b[0m\n\u001b[0m\u001b[1;32m      9\u001b[0m \u001b[0mprint\u001b[0m\u001b[0;34m(\u001b[0m\u001b[0ma\u001b[0m\u001b[0;34m.\u001b[0m\u001b[0mtest\u001b[0m\u001b[0;34m)\u001b[0m\u001b[0;34m\u001b[0m\u001b[0;34m\u001b[0m\u001b[0m\n\u001b[1;32m     10\u001b[0m \u001b[0ma\u001b[0m \u001b[0;34m=\u001b[0m \u001b[0mA\u001b[0m\u001b[0;34m(\u001b[0m\u001b[0mextra\u001b[0m\u001b[0;34m=\u001b[0m\u001b[0;34m\"extra\"\u001b[0m\u001b[0;34m)\u001b[0m\u001b[0;34m\u001b[0m\u001b[0;34m\u001b[0m\u001b[0m\n",
      "\u001b[0;31mTypeError\u001b[0m: A() takes no arguments"
     ]
    }
   ],
   "source": [
    "class A:\n",
    "    test: str=\"test\"\n",
    "    extra: str\n",
    "        \n",
    "        \n",
    "a = A()\n",
    "print(a.test)\n",
    "a = A(test=\"test\")\n",
    "print(a.test)\n",
    "a = A(extra=\"extra\")\n",
    "print(a.extra)"
   ]
  },
  {
   "cell_type": "code",
   "execution_count": 109,
   "metadata": {},
   "outputs": [
    {
     "data": {
      "text/plain": [
       "[1, 2, 3]"
      ]
     },
     "execution_count": 109,
     "metadata": {},
     "output_type": "execute_result"
    }
   ],
   "source": [
    "class A:\n",
    "    def foo(test: str) -> str:\n",
    "        return test\n",
    "\n",
    "A.foo([1,2,3])\n",
    "\n",
    "class A(BaseModel):\n",
    "    def foo(test: str) -> str:\n",
    "        return test\n",
    "\n",
    "A.foo([1,2,3])"
   ]
  },
  {
   "cell_type": "code",
   "execution_count": null,
   "metadata": {},
   "outputs": [],
   "source": []
  },
  {
   "cell_type": "markdown",
   "metadata": {},
   "source": [
    "So we see that standard python hints do not define how a class can be initialized. Is this enough reason to adopt pydantic?"
   ]
  },
  {
   "cell_type": "markdown",
   "metadata": {},
   "source": [
    "# Testing what works for assigning a constant that can be assigned on create but not on an instance."
   ]
  },
  {
   "cell_type": "code",
   "execution_count": 30,
   "metadata": {},
   "outputs": [
    {
     "name": "stdout",
     "output_type": "stream",
     "text": [
      "unable to change constant on create for instance of <class '__main__.A'>\n",
      "Found no way to set an unmutable attribute\n"
     ]
    }
   ],
   "source": [
    "class A(BaseModel):\n",
    "    \"\"\"Testing the const attr of field\"\"\"\n",
    "    \n",
    "    test: str=Field(\"test\", const=\"true\")\n",
    "        \n",
    "    class Config:\n",
    "        validate_assignment=True\n",
    "        \n",
    "try:\n",
    "    a = A(test=\"oncreate\")\n",
    "except:\n",
    "    print(f\"unable to change constant on create for instance of {A}\")\n",
    "\n",
    "        \n",
    "class B(BaseModel):\n",
    "    \"\"\"Testing the allow_mutation attr of field\"\"\"\n",
    "    \n",
    "    test: str=Field(\"test\", allow_mutation=False)\n",
    "        \n",
    "    class Config:\n",
    "        validate_assignment=True\n",
    "\n",
    "        \n",
    "        \n",
    "class C(BaseModel):\n",
    "    \"\"\"Testing custom setattr\"\"\"\n",
    "    \n",
    "    test: str=Field(\"test\")\n",
    "        \n",
    "    def __setattr__(self, name: str, value: Any) -> None:\n",
    "        if name in {'created_at'}:\n",
    "            raise AttributeError(f'cannot assign new value for {name!r}')\n",
    "        super().__setattr__(name, value)\n",
    "        \n",
    "\n",
    "test_classes = [B(test=\"oncreate\"), C(test=\"oncreate\")]\n",
    "\n",
    "count_fails = 0\n",
    "for tc in test_classes:\n",
    "    try:\n",
    "        tc.test = \"oninstance\"\n",
    "        count_fails += 1\n",
    "    except:\n",
    "        print(f\"Unable to set on instance of {tc}\")\n",
    "        \n",
    "if count_fails==len(test_classes):\n",
    "    print(\"Found no way to set an unmutable attribute\")"
   ]
  },
  {
   "cell_type": "markdown",
   "metadata": {},
   "source": [
    "# Testing how to validate dictionary keys"
   ]
  },
  {
   "cell_type": "code",
   "execution_count": 78,
   "metadata": {},
   "outputs": [
    {
     "name": "stdout",
     "output_type": "stream",
     "text": [
      "{'test': 123, 'else': 'else'}\n",
      "{}\n"
     ]
    }
   ],
   "source": [
    "from typing import Dict, TypedDict\n",
    "from pydantic import Extra\n",
    "from enum import Enum, IntEnum\n",
    "import sys\n",
    "\n",
    "class custom_dict(Dict):\n",
    "    test: str\n",
    "        \n",
    "cd = custom_dict()\n",
    "cd[\"test\"] = \"test\"\n",
    "cd[\"else\"] = \"else\"\n",
    "cd[\"test\"] = 123\n",
    "print(cd)\n",
    "print(cd.__dict__)"
   ]
  },
  {
   "cell_type": "code",
   "execution_count": 104,
   "metadata": {},
   "outputs": [
    {
     "name": "stdout",
     "output_type": "stream",
     "text": [
      "Unable validate dict. Class=B\n",
      "Unexpected error: <class 'pydantic.error_wrappers.ValidationError'>\n",
      "Unable validate dict. Class=C\n",
      "Unexpected error: <class 'pydantic.error_wrappers.ValidationError'>\n"
     ]
    }
   ],
   "source": [
    "class A(BaseModel):\n",
    "    \"\"\"Testing dictionaries\"\"\"\n",
    "    \n",
    "    test: custom_dict\n",
    "        \n",
    "    class Config:\n",
    "        extra = Extra.forbid\n",
    "        \n",
    "        \n",
    "class AllowedKeys(str, Enum):\n",
    "    test = 'test'\n",
    "    \n",
    "class B(BaseModel):\n",
    "    \"\"\"Testing dictionaries\"\"\"\n",
    "    \n",
    "    test: Dict[AllowedKeys, str]\n",
    "        \n",
    "\n",
    "AllowedKeys2 = [\"test\", \"extra\"]\n",
    "AllowedKeys2 = Enum(\"AllowedKeys2\", zip(AllowedKeys2, AllowedKeys2))\n",
    "\n",
    "class C(BaseModel):\n",
    "    test: Dict[AllowedKeys2, str]\n",
    "\n",
    "test_classes = [A, B, C]\n",
    "\n",
    "count_fails = 0\n",
    "for TC in test_classes:\n",
    "    # All classes should support the standard use case\n",
    "    tc = TC(test={\"test\": \"Success\"})\n",
    "    \n",
    "    # Test that we can validate and raise error on unsupported cases\n",
    "    try:\n",
    "        tc = TC(test={\"nottest\": \"failed\"})\n",
    "        count_fails += 1\n",
    "    except:\n",
    "        print(f\"Unable validate dict. Class={TC.__name__}\")\n",
    "        print(\"Unexpected error:\", sys.exc_info()[0])\n",
    "        \n",
    "if count_fails==len(test_classes):\n",
    "    print(\"Found no way to set an unmutable attribute\")"
   ]
  },
  {
   "cell_type": "markdown",
   "metadata": {},
   "source": [
    "# Testing how to set new attributes not defined in class"
   ]
  },
  {
   "cell_type": "code",
   "execution_count": 97,
   "metadata": {},
   "outputs": [
    {
     "name": "stdout",
     "output_type": "stream",
     "text": [
      "1\n",
      "1\n",
      "Class=B\n",
      "Unexpected error: <class 'pydantic.error_wrappers.ValidationError'>\n",
      "1\n",
      "2\n"
     ]
    },
    {
     "data": {
      "text/plain": [
       "'{\"test\": \"test\", \"a\": 1, \"b\": 2}'"
      ]
     },
     "execution_count": 97,
     "metadata": {},
     "output_type": "execute_result"
    }
   ],
   "source": [
    "class Obj:\n",
    "    pass\n",
    "\n",
    "obj = Obj()\n",
    "obj.a = 1\n",
    "\n",
    "print( obj.a )\n",
    "\n",
    "obj.a = Obj()\n",
    "\n",
    "obj.a.a = 1\n",
    "\n",
    "print( obj.a.a )\n",
    "\n",
    "class Obj(BaseModel):\n",
    "    test: str\n",
    "        \n",
    "    class Config:\n",
    "        validate_assignment = True\n",
    "        extra = Extra.allow\n",
    "        \n",
    "\n",
    "obj = Obj(test=\"test\")\n",
    "\n",
    "try:\n",
    "    obj.test = {\"a\": 1}\n",
    "except:\n",
    "    print(f\"Class={TC.__name__}\")\n",
    "    print(\"Unexpected error:\", sys.exc_info()[0])\n",
    "\n",
    "\n",
    "obj.a = 1\n",
    "\n",
    "print( obj.a )\n",
    "\n",
    "\n",
    "setattr(obj, \"b\", 2)\n",
    "\n",
    "print( obj.b )"
   ]
  },
  {
   "cell_type": "code",
   "execution_count": 64,
   "metadata": {},
   "outputs": [
    {
     "name": "stdout",
     "output_type": "stream",
     "text": [
      "None\n",
      "help\n",
      "{\"test\": 123}\n"
     ]
    },
    {
     "ename": "AttributeError",
     "evalue": "'A' object has no attribute 'validate_all'",
     "output_type": "error",
     "traceback": [
      "\u001b[0;31m---------------------------------------------------------------------------\u001b[0m",
      "\u001b[0;31mAttributeError\u001b[0m                            Traceback (most recent call last)",
      "\u001b[0;32m<ipython-input-64-a7c5458dcbd1>\u001b[0m in \u001b[0;36m<module>\u001b[0;34m\u001b[0m\n\u001b[1;32m     21\u001b[0m \u001b[0ma\u001b[0m\u001b[0;34m[\u001b[0m\u001b[0;34m\"test\"\u001b[0m\u001b[0;34m]\u001b[0m \u001b[0;34m=\u001b[0m \u001b[0;36m123\u001b[0m\u001b[0;34m\u001b[0m\u001b[0;34m\u001b[0m\u001b[0m\n\u001b[1;32m     22\u001b[0m \u001b[0mprint\u001b[0m\u001b[0;34m(\u001b[0m\u001b[0ma\u001b[0m\u001b[0;34m.\u001b[0m\u001b[0mjson\u001b[0m\u001b[0;34m(\u001b[0m\u001b[0;34m)\u001b[0m\u001b[0;34m)\u001b[0m\u001b[0;34m\u001b[0m\u001b[0;34m\u001b[0m\u001b[0m\n\u001b[0;32m---> 23\u001b[0;31m \u001b[0ma\u001b[0m\u001b[0;34m.\u001b[0m\u001b[0mvalidate_all\u001b[0m\u001b[0;34m(\u001b[0m\u001b[0;34m)\u001b[0m\u001b[0;34m\u001b[0m\u001b[0;34m\u001b[0m\u001b[0m\n\u001b[0m",
      "\u001b[0;31mAttributeError\u001b[0m: 'A' object has no attribute 'validate_all'"
     ]
    }
   ],
   "source": [
    "class A(BaseModel):\n",
    "    \"\"\"Testing the constant field\"\"\"\n",
    "    \n",
    "    test: str=None\n",
    "        \n",
    "    class Config:\n",
    "        validate_assignment=True\n",
    "        \n",
    "    def __setitem__(self, key, item):\n",
    "        self.__dict__[key] = item\n",
    "\n",
    "    def __getitem__(self, key):\n",
    "        return self.__dict__[key]\n",
    "        \n",
    "        \n",
    "a = A()\n",
    "print(a.test)\n",
    "a.test = \"help\"\n",
    "print(a.test)\n",
    "a.test=123\n",
    "a[\"test\"] = 123\n",
    "print(a.json())\n",
    "a.validate_all()"
   ]
  },
  {
   "cell_type": "markdown",
   "metadata": {},
   "source": [
    "# Allowing subtypes allowed?"
   ]
  },
  {
   "cell_type": "code",
   "execution_count": 4,
   "metadata": {},
   "outputs": [
    {
     "ename": "ValidationError",
     "evalue": "1 validation error for PydanticModel\nlinkedObj\n  instance of A expected (type=type_error.arbitrary_type; expected_arbitrary_type=A)",
     "output_type": "error",
     "traceback": [
      "\u001b[0;31m---------------------------------------------------------------------------\u001b[0m",
      "\u001b[0;31mValidationError\u001b[0m                           Traceback (most recent call last)",
      "\u001b[0;32m<ipython-input-4-cefc760a0f38>\u001b[0m in \u001b[0;36m<module>\u001b[0;34m\u001b[0m\n\u001b[1;32m     20\u001b[0m \u001b[0mPydanticModel\u001b[0m\u001b[0;34m(\u001b[0m\u001b[0mlinkedObj\u001b[0m\u001b[0;34m=\u001b[0m\u001b[0mSubtypeOfA\u001b[0m\u001b[0;34m(\u001b[0m\u001b[0;34m)\u001b[0m\u001b[0;34m)\u001b[0m\u001b[0;34m\u001b[0m\u001b[0;34m\u001b[0m\u001b[0m\n\u001b[1;32m     21\u001b[0m \u001b[0;34m\u001b[0m\u001b[0m\n\u001b[0;32m---> 22\u001b[0;31m \u001b[0mPydanticModel\u001b[0m\u001b[0;34m(\u001b[0m\u001b[0mlinkedObj\u001b[0m\u001b[0;34m=\u001b[0m\u001b[0mB\u001b[0m\u001b[0;34m(\u001b[0m\u001b[0;34m)\u001b[0m\u001b[0;34m)\u001b[0m\u001b[0;34m\u001b[0m\u001b[0;34m\u001b[0m\u001b[0m\n\u001b[0m",
      "\u001b[0;32m~/anaconda3/envs/cordrapy/lib/python3.8/site-packages/pydantic/main.cpython-38-x86_64-linux-gnu.so\u001b[0m in \u001b[0;36mpydantic.main.BaseModel.__init__\u001b[0;34m()\u001b[0m\n",
      "\u001b[0;31mValidationError\u001b[0m: 1 validation error for PydanticModel\nlinkedObj\n  instance of A expected (type=type_error.arbitrary_type; expected_arbitrary_type=A)"
     ]
    }
   ],
   "source": [
    "from pydantic import BaseModel\n",
    "\n",
    "class A:\n",
    "    pass\n",
    "\n",
    "class SubtypeOfA(A):\n",
    "    pass\n",
    "\n",
    "class B:\n",
    "    pass\n",
    "\n",
    "class PydanticModel(BaseModel):\n",
    "    linkedObj: A\n",
    "        \n",
    "    class Config:\n",
    "        arbitrary_types_allowed = True\n",
    "        \n",
    "PydanticModel(linkedObj=A())\n",
    "\n",
    "PydanticModel(linkedObj=SubtypeOfA())\n",
    "\n",
    "PydanticModel(linkedObj=B())"
   ]
  },
  {
   "cell_type": "markdown",
   "metadata": {},
   "source": [
    "Subtypes pass the validation check! Nice feature."
   ]
  },
  {
   "cell_type": "markdown",
   "metadata": {},
   "source": [
    "# Pydantic and Request Objects"
   ]
  },
  {
   "cell_type": "code",
   "execution_count": 31,
   "metadata": {},
   "outputs": [
    {
     "data": {
      "text/plain": [
       "<Response [200]>"
      ]
     },
     "execution_count": 31,
     "metadata": {},
     "output_type": "execute_result"
    }
   ],
   "source": [
    "from pydantic import BaseModel\n",
    "from requests import Session, Request\n",
    "\n",
    "s = Session()\n",
    "s.headers = {\"randomkey\": \"randomvalue\"}\n",
    "\n",
    "s.get(\"https://schema.org/version/latest/schemaorg-current-https.jsonld\")"
   ]
  },
  {
   "cell_type": "code",
   "execution_count": 32,
   "metadata": {},
   "outputs": [
    {
     "ename": "AttributeError",
     "evalue": "'Engine' object has no attribute 'cookies'",
     "output_type": "error",
     "traceback": [
      "\u001b[0;31m---------------------------------------------------------------------------\u001b[0m",
      "\u001b[0;31mAttributeError\u001b[0m                            Traceback (most recent call last)",
      "\u001b[0;32m<ipython-input-32-8f0e25d9a65c>\u001b[0m in \u001b[0;36m<module>\u001b[0;34m\u001b[0m\n\u001b[1;32m      5\u001b[0m \u001b[0me\u001b[0m \u001b[0;34m=\u001b[0m \u001b[0mEngine\u001b[0m\u001b[0;34m(\u001b[0m\u001b[0mheaders\u001b[0m\u001b[0;34m=\u001b[0m\u001b[0;34m{\u001b[0m\u001b[0;34m\"randomkey\"\u001b[0m\u001b[0;34m:\u001b[0m \u001b[0;34m\"randomvalue\"\u001b[0m\u001b[0;34m}\u001b[0m\u001b[0;34m)\u001b[0m\u001b[0;34m\u001b[0m\u001b[0;34m\u001b[0m\u001b[0m\n\u001b[1;32m      6\u001b[0m \u001b[0;34m\u001b[0m\u001b[0m\n\u001b[0;32m----> 7\u001b[0;31m \u001b[0me\u001b[0m\u001b[0;34m.\u001b[0m\u001b[0mget\u001b[0m\u001b[0;34m(\u001b[0m\u001b[0;34m\"https://schema.org/version/latest/schemaorg-current-https.jsonld\"\u001b[0m\u001b[0;34m)\u001b[0m\u001b[0;34m\u001b[0m\u001b[0;34m\u001b[0m\u001b[0m\n\u001b[0m",
      "\u001b[0;32m~/anaconda3/envs/cordrapy/lib/python3.8/site-packages/requests/sessions.py\u001b[0m in \u001b[0;36mget\u001b[0;34m(self, url, **kwargs)\u001b[0m\n\u001b[1;32m    541\u001b[0m \u001b[0;34m\u001b[0m\u001b[0m\n\u001b[1;32m    542\u001b[0m         \u001b[0mkwargs\u001b[0m\u001b[0;34m.\u001b[0m\u001b[0msetdefault\u001b[0m\u001b[0;34m(\u001b[0m\u001b[0;34m'allow_redirects'\u001b[0m\u001b[0;34m,\u001b[0m \u001b[0;32mTrue\u001b[0m\u001b[0;34m)\u001b[0m\u001b[0;34m\u001b[0m\u001b[0;34m\u001b[0m\u001b[0m\n\u001b[0;32m--> 543\u001b[0;31m         \u001b[0;32mreturn\u001b[0m \u001b[0mself\u001b[0m\u001b[0;34m.\u001b[0m\u001b[0mrequest\u001b[0m\u001b[0;34m(\u001b[0m\u001b[0;34m'GET'\u001b[0m\u001b[0;34m,\u001b[0m \u001b[0murl\u001b[0m\u001b[0;34m,\u001b[0m \u001b[0;34m**\u001b[0m\u001b[0mkwargs\u001b[0m\u001b[0;34m)\u001b[0m\u001b[0;34m\u001b[0m\u001b[0;34m\u001b[0m\u001b[0m\n\u001b[0m\u001b[1;32m    544\u001b[0m \u001b[0;34m\u001b[0m\u001b[0m\n\u001b[1;32m    545\u001b[0m     \u001b[0;32mdef\u001b[0m \u001b[0moptions\u001b[0m\u001b[0;34m(\u001b[0m\u001b[0mself\u001b[0m\u001b[0;34m,\u001b[0m \u001b[0murl\u001b[0m\u001b[0;34m,\u001b[0m \u001b[0;34m**\u001b[0m\u001b[0mkwargs\u001b[0m\u001b[0;34m)\u001b[0m\u001b[0;34m:\u001b[0m\u001b[0;34m\u001b[0m\u001b[0;34m\u001b[0m\u001b[0m\n",
      "\u001b[0;32m~/anaconda3/envs/cordrapy/lib/python3.8/site-packages/requests/sessions.py\u001b[0m in \u001b[0;36mrequest\u001b[0;34m(self, method, url, params, data, headers, cookies, files, auth, timeout, allow_redirects, proxies, hooks, stream, verify, cert, json)\u001b[0m\n\u001b[1;32m    514\u001b[0m             \u001b[0mhooks\u001b[0m\u001b[0;34m=\u001b[0m\u001b[0mhooks\u001b[0m\u001b[0;34m,\u001b[0m\u001b[0;34m\u001b[0m\u001b[0;34m\u001b[0m\u001b[0m\n\u001b[1;32m    515\u001b[0m         )\n\u001b[0;32m--> 516\u001b[0;31m         \u001b[0mprep\u001b[0m \u001b[0;34m=\u001b[0m \u001b[0mself\u001b[0m\u001b[0;34m.\u001b[0m\u001b[0mprepare_request\u001b[0m\u001b[0;34m(\u001b[0m\u001b[0mreq\u001b[0m\u001b[0;34m)\u001b[0m\u001b[0;34m\u001b[0m\u001b[0;34m\u001b[0m\u001b[0m\n\u001b[0m\u001b[1;32m    517\u001b[0m \u001b[0;34m\u001b[0m\u001b[0m\n\u001b[1;32m    518\u001b[0m         \u001b[0mproxies\u001b[0m \u001b[0;34m=\u001b[0m \u001b[0mproxies\u001b[0m \u001b[0;32mor\u001b[0m \u001b[0;34m{\u001b[0m\u001b[0;34m}\u001b[0m\u001b[0;34m\u001b[0m\u001b[0;34m\u001b[0m\u001b[0m\n",
      "\u001b[0;32m~/anaconda3/envs/cordrapy/lib/python3.8/site-packages/requests/sessions.py\u001b[0m in \u001b[0;36mprepare_request\u001b[0;34m(self, request)\u001b[0m\n\u001b[1;32m    439\u001b[0m         \u001b[0;31m# Merge with session cookies\u001b[0m\u001b[0;34m\u001b[0m\u001b[0;34m\u001b[0m\u001b[0;34m\u001b[0m\u001b[0m\n\u001b[1;32m    440\u001b[0m         merged_cookies = merge_cookies(\n\u001b[0;32m--> 441\u001b[0;31m             merge_cookies(RequestsCookieJar(), self.cookies), cookies)\n\u001b[0m\u001b[1;32m    442\u001b[0m \u001b[0;34m\u001b[0m\u001b[0m\n\u001b[1;32m    443\u001b[0m         \u001b[0;31m# Set environment's basic authentication if not explicitly set.\u001b[0m\u001b[0;34m\u001b[0m\u001b[0;34m\u001b[0m\u001b[0;34m\u001b[0m\u001b[0m\n",
      "\u001b[0;31mAttributeError\u001b[0m: 'Engine' object has no attribute 'cookies'"
     ]
    }
   ],
   "source": [
    "class Engine(BaseModel, Session):\n",
    "    pass\n",
    "        \n",
    "\n",
    "e = Engine(headers={\"randomkey\": \"randomvalue\"})\n",
    "\n",
    "e.get(\"https://schema.org/version/latest/schemaorg-current-https.jsonld\")"
   ]
  },
  {
   "cell_type": "code",
   "execution_count": 39,
   "metadata": {},
   "outputs": [
    {
     "data": {
      "text/plain": [
       "<Response [200]>"
      ]
     },
     "execution_count": 39,
     "metadata": {},
     "output_type": "execute_result"
    }
   ],
   "source": [
    "class Engine(BaseModel):\n",
    "    s: Session=Session()\n",
    "    \n",
    "    class Config:\n",
    "        arbitrary_types_allowed = True\n",
    "\n",
    "e = Engine()\n",
    "\n",
    "e.s.get(\"https://schema.org/version/latest/schemaorg-current-https.jsonld\")"
   ]
  },
  {
   "cell_type": "code",
   "execution_count": 40,
   "metadata": {},
   "outputs": [
    {
     "ename": "TypeError",
     "evalue": "Object of type 'Session' is not JSON serializable",
     "output_type": "error",
     "traceback": [
      "\u001b[0;31m---------------------------------------------------------------------------\u001b[0m",
      "\u001b[0;31mTypeError\u001b[0m                                 Traceback (most recent call last)",
      "\u001b[0;32m<ipython-input-40-c894993d3166>\u001b[0m in \u001b[0;36m<module>\u001b[0;34m\u001b[0m\n\u001b[0;32m----> 1\u001b[0;31m \u001b[0me\u001b[0m\u001b[0;34m.\u001b[0m\u001b[0mjson\u001b[0m\u001b[0;34m(\u001b[0m\u001b[0;34m)\u001b[0m\u001b[0;34m\u001b[0m\u001b[0;34m\u001b[0m\u001b[0m\n\u001b[0m",
      "\u001b[0;32m~/anaconda3/envs/cordrapy/lib/python3.8/site-packages/pydantic/main.cpython-38-x86_64-linux-gnu.so\u001b[0m in \u001b[0;36mpydantic.main.BaseModel.json\u001b[0;34m()\u001b[0m\n",
      "\u001b[0;32m~/anaconda3/envs/cordrapy/lib/python3.8/json/__init__.py\u001b[0m in \u001b[0;36mdumps\u001b[0;34m(obj, skipkeys, ensure_ascii, check_circular, allow_nan, cls, indent, separators, default, sort_keys, **kw)\u001b[0m\n\u001b[1;32m    232\u001b[0m     \u001b[0;32mif\u001b[0m \u001b[0mcls\u001b[0m \u001b[0;32mis\u001b[0m \u001b[0;32mNone\u001b[0m\u001b[0;34m:\u001b[0m\u001b[0;34m\u001b[0m\u001b[0;34m\u001b[0m\u001b[0m\n\u001b[1;32m    233\u001b[0m         \u001b[0mcls\u001b[0m \u001b[0;34m=\u001b[0m \u001b[0mJSONEncoder\u001b[0m\u001b[0;34m\u001b[0m\u001b[0;34m\u001b[0m\u001b[0m\n\u001b[0;32m--> 234\u001b[0;31m     return cls(\n\u001b[0m\u001b[1;32m    235\u001b[0m         \u001b[0mskipkeys\u001b[0m\u001b[0;34m=\u001b[0m\u001b[0mskipkeys\u001b[0m\u001b[0;34m,\u001b[0m \u001b[0mensure_ascii\u001b[0m\u001b[0;34m=\u001b[0m\u001b[0mensure_ascii\u001b[0m\u001b[0;34m,\u001b[0m\u001b[0;34m\u001b[0m\u001b[0;34m\u001b[0m\u001b[0m\n\u001b[1;32m    236\u001b[0m         \u001b[0mcheck_circular\u001b[0m\u001b[0;34m=\u001b[0m\u001b[0mcheck_circular\u001b[0m\u001b[0;34m,\u001b[0m \u001b[0mallow_nan\u001b[0m\u001b[0;34m=\u001b[0m\u001b[0mallow_nan\u001b[0m\u001b[0;34m,\u001b[0m \u001b[0mindent\u001b[0m\u001b[0;34m=\u001b[0m\u001b[0mindent\u001b[0m\u001b[0;34m,\u001b[0m\u001b[0;34m\u001b[0m\u001b[0;34m\u001b[0m\u001b[0m\n",
      "\u001b[0;32m~/anaconda3/envs/cordrapy/lib/python3.8/json/encoder.py\u001b[0m in \u001b[0;36mencode\u001b[0;34m(self, o)\u001b[0m\n\u001b[1;32m    197\u001b[0m         \u001b[0;31m# exceptions aren't as detailed.  The list call should be roughly\u001b[0m\u001b[0;34m\u001b[0m\u001b[0;34m\u001b[0m\u001b[0;34m\u001b[0m\u001b[0m\n\u001b[1;32m    198\u001b[0m         \u001b[0;31m# equivalent to the PySequence_Fast that ''.join() would do.\u001b[0m\u001b[0;34m\u001b[0m\u001b[0;34m\u001b[0m\u001b[0;34m\u001b[0m\u001b[0m\n\u001b[0;32m--> 199\u001b[0;31m         \u001b[0mchunks\u001b[0m \u001b[0;34m=\u001b[0m \u001b[0mself\u001b[0m\u001b[0;34m.\u001b[0m\u001b[0miterencode\u001b[0m\u001b[0;34m(\u001b[0m\u001b[0mo\u001b[0m\u001b[0;34m,\u001b[0m \u001b[0m_one_shot\u001b[0m\u001b[0;34m=\u001b[0m\u001b[0;32mTrue\u001b[0m\u001b[0;34m)\u001b[0m\u001b[0;34m\u001b[0m\u001b[0;34m\u001b[0m\u001b[0m\n\u001b[0m\u001b[1;32m    200\u001b[0m         \u001b[0;32mif\u001b[0m \u001b[0;32mnot\u001b[0m \u001b[0misinstance\u001b[0m\u001b[0;34m(\u001b[0m\u001b[0mchunks\u001b[0m\u001b[0;34m,\u001b[0m \u001b[0;34m(\u001b[0m\u001b[0mlist\u001b[0m\u001b[0;34m,\u001b[0m \u001b[0mtuple\u001b[0m\u001b[0;34m)\u001b[0m\u001b[0;34m)\u001b[0m\u001b[0;34m:\u001b[0m\u001b[0;34m\u001b[0m\u001b[0;34m\u001b[0m\u001b[0m\n\u001b[1;32m    201\u001b[0m             \u001b[0mchunks\u001b[0m \u001b[0;34m=\u001b[0m \u001b[0mlist\u001b[0m\u001b[0;34m(\u001b[0m\u001b[0mchunks\u001b[0m\u001b[0;34m)\u001b[0m\u001b[0;34m\u001b[0m\u001b[0;34m\u001b[0m\u001b[0m\n",
      "\u001b[0;32m~/anaconda3/envs/cordrapy/lib/python3.8/json/encoder.py\u001b[0m in \u001b[0;36miterencode\u001b[0;34m(self, o, _one_shot)\u001b[0m\n\u001b[1;32m    255\u001b[0m                 \u001b[0mself\u001b[0m\u001b[0;34m.\u001b[0m\u001b[0mkey_separator\u001b[0m\u001b[0;34m,\u001b[0m \u001b[0mself\u001b[0m\u001b[0;34m.\u001b[0m\u001b[0mitem_separator\u001b[0m\u001b[0;34m,\u001b[0m \u001b[0mself\u001b[0m\u001b[0;34m.\u001b[0m\u001b[0msort_keys\u001b[0m\u001b[0;34m,\u001b[0m\u001b[0;34m\u001b[0m\u001b[0;34m\u001b[0m\u001b[0m\n\u001b[1;32m    256\u001b[0m                 self.skipkeys, _one_shot)\n\u001b[0;32m--> 257\u001b[0;31m         \u001b[0;32mreturn\u001b[0m \u001b[0m_iterencode\u001b[0m\u001b[0;34m(\u001b[0m\u001b[0mo\u001b[0m\u001b[0;34m,\u001b[0m \u001b[0;36m0\u001b[0m\u001b[0;34m)\u001b[0m\u001b[0;34m\u001b[0m\u001b[0;34m\u001b[0m\u001b[0m\n\u001b[0m\u001b[1;32m    258\u001b[0m \u001b[0;34m\u001b[0m\u001b[0m\n\u001b[1;32m    259\u001b[0m def _make_iterencode(markers, _default, _encoder, _indent, _floatstr,\n",
      "\u001b[0;32m~/anaconda3/envs/cordrapy/lib/python3.8/site-packages/pydantic/json.cpython-38-x86_64-linux-gnu.so\u001b[0m in \u001b[0;36mpydantic.json.pydantic_encoder\u001b[0;34m()\u001b[0m\n",
      "\u001b[0;31mTypeError\u001b[0m: Object of type 'Session' is not JSON serializable"
     ]
    }
   ],
   "source": [
    "e.json()"
   ]
  },
  {
   "cell_type": "markdown",
   "metadata": {},
   "source": [
    "# Callable Tests"
   ]
  },
  {
   "cell_type": "code",
   "execution_count": 53,
   "metadata": {},
   "outputs": [
    {
     "data": {
      "text/plain": [
       "'testa'"
      ]
     },
     "execution_count": 53,
     "metadata": {},
     "output_type": "execute_result"
    }
   ],
   "source": [
    "from pydantic import BaseModel\n",
    "from typing import Callable\n",
    "\n",
    "class A(BaseModel):\n",
    "    test: str\n",
    "    foo: Callable=lambda self, x: self.test + x\n",
    "        \n",
    "A(test=\"test\").foo(\"a\")"
   ]
  },
  {
   "cell_type": "code",
   "execution_count": 54,
   "metadata": {},
   "outputs": [],
   "source": [
    "from pydantic import FilePath"
   ]
  },
  {
   "cell_type": "code",
   "execution_count": 62,
   "metadata": {},
   "outputs": [
    {
     "data": {
      "text/plain": [
       "'a1,red,fighter,'"
      ]
     },
     "execution_count": 62,
     "metadata": {},
     "output_type": "execute_result"
    }
   ],
   "source": [
    "foo = lambda x, *args: x + \",\".join(args).replace(\",,\", \",\")\n",
    "\n",
    "foo(\"a\", \"1,\", \"red\", \"fighter,\")"
   ]
  },
  {
   "cell_type": "code",
   "execution_count": 64,
   "metadata": {},
   "outputs": [
    {
     "data": {
      "text/plain": [
       "'redfighter,helper'"
      ]
     },
     "execution_count": 64,
     "metadata": {},
     "output_type": "execute_result"
    }
   ],
   "source": [
    "from functools import partial\n",
    "\n",
    "partial(foo, \"red\")(\"fighter\", \"helper\")"
   ]
  },
  {
   "cell_type": "code",
   "execution_count": 68,
   "metadata": {},
   "outputs": [
    {
     "name": "stdout",
     "output_type": "stream",
     "text": [
      "<Response [200]>\n"
     ]
    },
    {
     "data": {
      "text/plain": [
       "<Response [200]>"
      ]
     },
     "execution_count": 68,
     "metadata": {},
     "output_type": "execute_result"
    }
   ],
   "source": [
    "s = Session()\n",
    "\n",
    "r = s.get(\"https://schema.org/version/latest/schemaorg-current-https.jsonld\")\n",
    "\n",
    "print(r)\n",
    "\n",
    "s.get = partial(s.get, \"https://schema.org/version/latest/schemaorg-current-https.jsonld\")\n",
    "\n",
    "s.get()"
   ]
  },
  {
   "cell_type": "code",
   "execution_count": 70,
   "metadata": {},
   "outputs": [
    {
     "name": "stdout",
     "output_type": "stream",
     "text": [
      "Success\n"
     ]
    },
    {
     "data": {
      "text/plain": [
       "<Response [200]>"
      ]
     },
     "execution_count": 70,
     "metadata": {},
     "output_type": "execute_result"
    }
   ],
   "source": [
    "from functools import partial, wraps\n",
    "\n",
    "def check_response(f):\n",
    "    @wraps(f)\n",
    "    def wrapper(*args, **kwds):\n",
    "        r = f(*args, **kwds)\n",
    "        if r.ok:\n",
    "            print(\"Success\")\n",
    "            return r\n",
    "        else:\n",
    "            print(\"Failure\")\n",
    "            \n",
    "    return wrapper\n",
    "\n",
    "s = Session()\n",
    "s.send = check_response(s.send)\n",
    "s.get(\"https://schema.org/version/latest/schemaorg-current-https.jsonld\")"
   ]
  },
  {
   "cell_type": "code",
   "execution_count": 78,
   "metadata": {},
   "outputs": [
    {
     "name": "stderr",
     "output_type": "stream",
     "text": [
      "/home/sven/anaconda3/envs/cordrapy/lib/python3.8/site-packages/urllib3/connectionpool.py:981: InsecureRequestWarning: Unverified HTTPS request is being made to host 'localhost'. Adding certificate verification is strongly advised. See: https://urllib3.readthedocs.io/en/latest/advanced-usage.html#ssl-warnings\n",
      "  warnings.warn(\n"
     ]
    }
   ],
   "source": [
    "import json\n",
    "import requests\n",
    "\n",
    "with open( \"../secretlogin.json\" ) as loginfile:\n",
    "    login = json.load(loginfile)\n",
    "\n",
    "\n",
    "# First run auth and get token\n",
    "data = {\"grant_type\":\"password\"}\n",
    "data.update(login)\n",
    "\n",
    "r = requests.post(\n",
    "    \"https://localhost:8443/auth/token\",\n",
    "    data=data,\n",
    "    verify=False\n",
    ")\n",
    "\n",
    "assert r.ok\n",
    "\n",
    "headers = {\n",
    "    \"Authorization\": \"Bearer \"+r.json()[\"access_token\"],\n",
    "    \"Content-Type\": \"application/json\"\n",
    "}"
   ]
  },
  {
   "cell_type": "code",
   "execution_count": 77,
   "metadata": {},
   "outputs": [
    {
     "data": {
      "text/plain": [
       "{'access_token': '3j7coo2b6if91eudngppsis3x',\n",
       " 'token_type': 'Bearer',\n",
       " 'active': True,\n",
       " 'userId': 'test/dd860110a62b19214c4e',\n",
       " 'username': 'sven'}"
      ]
     },
     "execution_count": 77,
     "metadata": {},
     "output_type": "execute_result"
    }
   ],
   "source": [
    "r.json()"
   ]
  },
  {
   "cell_type": "code",
   "execution_count": 81,
   "metadata": {},
   "outputs": [
    {
     "data": {
      "text/plain": [
       "{'a': '1', 'b': '2'}"
      ]
     },
     "execution_count": 81,
     "metadata": {},
     "output_type": "execute_result"
    }
   ],
   "source": [
    "fake = dict()\n",
    "fake.update({\"a\": \"1\", \"b\": \"2\"})\n",
    "\n",
    "fake"
   ]
  },
  {
   "cell_type": "code",
   "execution_count": 82,
   "metadata": {},
   "outputs": [
    {
     "data": {
      "text/plain": [
       "{}"
      ]
     },
     "execution_count": 82,
     "metadata": {},
     "output_type": "execute_result"
    }
   ],
   "source": [
    "def foo(fake=dict()):\n",
    "    return fake\n",
    "\n",
    "foo()"
   ]
  },
  {
   "cell_type": "code",
   "execution_count": 84,
   "metadata": {},
   "outputs": [
    {
     "ename": "TypeError",
     "evalue": "'NoneType' object is not iterable",
     "output_type": "error",
     "traceback": [
      "\u001b[0;31m---------------------------------------------------------------------------\u001b[0m",
      "\u001b[0;31mTypeError\u001b[0m                                 Traceback (most recent call last)",
      "\u001b[0;32m<ipython-input-84-81c440e7985f>\u001b[0m in \u001b[0;36m<module>\u001b[0;34m\u001b[0m\n\u001b[0;32m----> 1\u001b[0;31m \u001b[0mfake\u001b[0m\u001b[0;34m.\u001b[0m\u001b[0mupdate\u001b[0m\u001b[0;34m(\u001b[0m\u001b[0;32mNone\u001b[0m\u001b[0;34m)\u001b[0m\u001b[0;34m\u001b[0m\u001b[0;34m\u001b[0m\u001b[0m\n\u001b[0m\u001b[1;32m      2\u001b[0m \u001b[0mfake\u001b[0m\u001b[0;34m\u001b[0m\u001b[0;34m\u001b[0m\u001b[0m\n",
      "\u001b[0;31mTypeError\u001b[0m: 'NoneType' object is not iterable"
     ]
    }
   ],
   "source": [
    "fake.update(None)\n",
    "fake"
   ]
  },
  {
   "cell_type": "code",
   "execution_count": 85,
   "metadata": {},
   "outputs": [
    {
     "data": {
      "text/plain": [
       "'null'"
      ]
     },
     "execution_count": 85,
     "metadata": {},
     "output_type": "execute_result"
    }
   ],
   "source": [
    "json.dumps(None)"
   ]
  },
  {
   "cell_type": "code",
   "execution_count": 1,
   "metadata": {},
   "outputs": [
    {
     "data": {
      "image/png": "[encoded data removed]",
      "text/plain": [
       "<PIL.Image.Image image mode=L size=11x11 at 0x7F14411DA970>"
      ]
     },
     "execution_count": 1,
     "metadata": {},
     "output_type": "execute_result"
    }
   ],
   "source": [
    "from PIL import Image\n",
    "\n",
    "A = Image.radial_gradient(\"L\").resize((11,11))\n",
    "A"
   ]
  },
  {
   "cell_type": "code",
   "execution_count": 15,
   "metadata": {},
   "outputs": [
    {
     "data": {
      "image/png": "[encoded data removed]",
      "text/plain": [
       "<PIL.PngImagePlugin.PngImageFile image mode=L size=11x11 at 0x7F142BBD0BB0>"
      ]
     },
     "execution_count": 15,
     "metadata": {},
     "output_type": "execute_result"
    }
   ],
   "source": [
    "import io\n",
    "\n",
    "stream = io.BytesIO()\n",
    "A.save(stream, format=\"PNG\")\n",
    "Image.open(stream)"
   ]
  },
  {
   "cell_type": "code",
   "execution_count": 16,
   "metadata": {},
   "outputs": [
    {
     "data": {
      "text/plain": [
       "b'\\xaeB`\\x82'"
      ]
     },
     "execution_count": 16,
     "metadata": {},
     "output_type": "execute_result"
    }
   ],
   "source": [
    "stream.read()"
   ]
  },
  {
   "cell_type": "code",
   "execution_count": 7,
   "metadata": {},
   "outputs": [
    {
     "data": {
      "text/plain": [
       "True"
      ]
     },
     "execution_count": 7,
     "metadata": {},
     "output_type": "execute_result"
    }
   ],
   "source": [
    "isinstance(stream, io.BytesIO)"
   ]
  },
  {
   "cell_type": "code",
   "execution_count": 9,
   "metadata": {},
   "outputs": [
    {
     "data": {
      "text/plain": [
       "1"
      ]
     },
     "execution_count": 9,
     "metadata": {},
     "output_type": "execute_result"
    }
   ],
   "source": [
    "x = 1 if True else 2\n",
    "x"
   ]
  },
  {
   "cell_type": "code",
   "execution_count": 14,
   "metadata": {},
   "outputs": [
    {
     "data": {
      "text/plain": [
       "4"
      ]
     },
     "execution_count": 14,
     "metadata": {},
     "output_type": "execute_result"
    }
   ],
   "source": [
    "def foo(x, y):\n",
    "    return x + y\n",
    "\n",
    "foo(1 if False else 2, 2)"
   ]
  },
  {
   "cell_type": "code",
   "execution_count": 21,
   "metadata": {},
   "outputs": [
    {
     "data": {
      "text/plain": [
       "'a'"
      ]
     },
     "execution_count": 21,
     "metadata": {},
     "output_type": "execute_result"
    }
   ],
   "source": [
    "from enum import Enum\n",
    "\n",
    "class test(Enum):\n",
    "    a=\"a\"\n",
    "    b=\"b\"\n",
    "    \n",
    "str(test.a.name)"
   ]
  },
  {
   "cell_type": "markdown",
   "metadata": {},
   "source": [
    "# Testing whether files and buffers can be opened in the same way"
   ]
  },
  {
   "cell_type": "code",
   "execution_count": 6,
   "metadata": {},
   "outputs": [
    {
     "name": "stdout",
     "output_type": "stream",
     "text": [
      "b'{\"a\": \"a\", \"b\": \"b\"}'\n"
     ]
    },
    {
     "ename": "TypeError",
     "evalue": "expected str, bytes or os.PathLike object, not _io.BytesIO",
     "output_type": "error",
     "traceback": [
      "\u001b[0;31m---------------------------------------------------------------------------\u001b[0m",
      "\u001b[0;31mTypeError\u001b[0m                                 Traceback (most recent call last)",
      "\u001b[0;32m<ipython-input-6-eca586ff1577>\u001b[0m in \u001b[0;36m<module>\u001b[0;34m\u001b[0m\n\u001b[1;32m      6\u001b[0m \u001b[0;34m\u001b[0m\u001b[0m\n\u001b[1;32m      7\u001b[0m \u001b[0;34m\u001b[0m\u001b[0m\n\u001b[0;32m----> 8\u001b[0;31m \u001b[0;32mwith\u001b[0m \u001b[0mopen\u001b[0m\u001b[0;34m(\u001b[0m\u001b[0mstream\u001b[0m\u001b[0;34m,\u001b[0m \u001b[0;34m\"rb\"\u001b[0m\u001b[0;34m)\u001b[0m \u001b[0;32mas\u001b[0m \u001b[0mf\u001b[0m\u001b[0;34m:\u001b[0m\u001b[0;34m\u001b[0m\u001b[0;34m\u001b[0m\u001b[0m\n\u001b[0m\u001b[1;32m      9\u001b[0m     \u001b[0mf\u001b[0m\u001b[0;34m.\u001b[0m\u001b[0mread\u001b[0m\u001b[0;34m(\u001b[0m\u001b[0;34m)\u001b[0m\u001b[0;34m\u001b[0m\u001b[0;34m\u001b[0m\u001b[0m\n",
      "\u001b[0;31mTypeError\u001b[0m: expected str, bytes or os.PathLike object, not _io.BytesIO"
     ]
    }
   ],
   "source": [
    "import json\n",
    "from io import BytesIO\n",
    "\n",
    "stream = BytesIO(json.dumps({\"a\": \"a\", \"b\":\"b\"}).encode())\n",
    "print(stream.getvalue())\n",
    "\n",
    "\n",
    "with open(stream, \"rb\") as f:\n",
    "    f.read()"
   ]
  },
  {
   "cell_type": "markdown",
   "metadata": {},
   "source": [
    "# Testing the size of a bytestring"
   ]
  },
  {
   "cell_type": "code",
   "execution_count": 11,
   "metadata": {},
   "outputs": [
    {
     "data": {
      "text/plain": [
       "<function Image.__sizeof__()>"
      ]
     },
     "execution_count": 11,
     "metadata": {},
     "output_type": "execute_result"
    }
   ],
   "source": [
    "import sys\n",
    "from PIL import Image\n",
    "\n",
    "A = Image.radial_gradient(\"L\").resize((1000,1000))"
   ]
  },
  {
   "cell_type": "code",
   "execution_count": 16,
   "metadata": {},
   "outputs": [
    {
     "data": {
      "text/plain": [
       "1000033"
      ]
     },
     "execution_count": 16,
     "metadata": {},
     "output_type": "execute_result"
    }
   ],
   "source": [
    "sys.getsizeof(A.tobytes())"
   ]
  },
  {
   "cell_type": "code",
   "execution_count": 17,
   "metadata": {},
   "outputs": [
    {
     "data": {
      "text/plain": [
       "49158"
      ]
     },
     "execution_count": 17,
     "metadata": {},
     "output_type": "execute_result"
    }
   ],
   "source": [
    "from io import BytesIO\n",
    "\n",
    "stream = BytesIO()\n",
    "A.save(stream, format=\"PNG\")\n",
    "sys.getsizeof(stream.getvalue())"
   ]
  },
  {
   "cell_type": "code",
   "execution_count": 2,
   "metadata": {},
   "outputs": [
    {
     "name": "stdout",
     "output_type": "stream",
     "text": [
      "{'a': 'A', 'b': 'B'}\n",
      "{'a': 'C', 'b': 'B'}\n",
      "{'a': 'C', 'b': 'B'}\n"
     ]
    }
   ],
   "source": [
    "a = {\"a\": \"A\", \"b\": \"B\"}\n",
    "print(a)\n",
    "b = a\n",
    "b[\"a\"] = \"C\"\n",
    "print(a)\n",
    "b = dict(a)\n",
    "b[\"b\"] = \"D\"\n",
    "print(a)"
   ]
  },
  {
   "cell_type": "code",
   "execution_count": null,
   "metadata": {},
   "outputs": [],
   "source": []
  }
 ],
 "metadata": {
  "kernelspec": {
   "display_name": "Python 3",
   "language": "python",
   "name": "python3"
  },
  "language_info": {
   "codemirror_mode": {
    "name": "ipython",
    "version": 3
   },
   "file_extension": ".py",
   "mimetype": "text/x-python",
   "name": "python",
   "nbconvert_exporter": "python",
   "pygments_lexer": "ipython3",
   "version": "3.8.5"
  }
 },
 "nbformat": 4,
 "nbformat_minor": 4
}
