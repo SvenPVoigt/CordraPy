{
 "cells": [
  {
   "cell_type": "code",
   "execution_count": 10,
   "metadata": {},
   "outputs": [],
   "source": [
    "import fastjsonschema\n",
    "\n",
    "class JSONSchemaObject:\n",
    "    schema = dict()\n",
    "    \n",
    "    def __init__(self):\n",
    "        \n",
    "        \n",
    "    def validate(self):\n",
    "        \n",
    "    self.validate = fastjsonschema.compile(self.schema)\n",
    "        \n",
    "    def __setattr__(self, key, val):\n",
    "        object.__setattr__(self, key, val)\n",
    "        \n",
    "        self.validate(self.__dict__)\n",
    "        \n",
    "        \n",
    "class onlyStrings(JSONSchemaObject):\n",
    "    schema = {'some': 'string'}\n",
    "    \n",
    "onlyStrings().some = 5"
   ]
  },
  {
   "cell_type": "code",
   "execution_count": 9,
   "metadata": {},
   "outputs": [
    {
     "data": {
      "text/plain": [
       "[('__class__', __main__.JSONSchemaObject),\n",
       " ('__delattr__',\n",
       "  <method-wrapper '__delattr__' of JSONSchemaObject object at 0x7ff4fc3a2940>),\n",
       " ('__dict__', {'validate': <function validate(data)>}),\n",
       " ('__dir__', <function JSONSchemaObject.__dir__()>),\n",
       " ('__doc__', None),\n",
       " ('__eq__',\n",
       "  <method-wrapper '__eq__' of JSONSchemaObject object at 0x7ff4fc3a2940>),\n",
       " ('__format__', <function JSONSchemaObject.__format__(format_spec, /)>),\n",
       " ('__ge__',\n",
       "  <method-wrapper '__ge__' of JSONSchemaObject object at 0x7ff4fc3a2940>),\n",
       " ('__getattribute__',\n",
       "  <method-wrapper '__getattribute__' of JSONSchemaObject object at 0x7ff4fc3a2940>),\n",
       " ('__gt__',\n",
       "  <method-wrapper '__gt__' of JSONSchemaObject object at 0x7ff4fc3a2940>),\n",
       " ('__hash__',\n",
       "  <method-wrapper '__hash__' of JSONSchemaObject object at 0x7ff4fc3a2940>),\n",
       " ('__init__',\n",
       "  <bound method JSONSchemaObject.__init__ of <__main__.JSONSchemaObject object at 0x7ff4fc3a2940>>),\n",
       " ('__init_subclass__', <function JSONSchemaObject.__init_subclass__>),\n",
       " ('__le__',\n",
       "  <method-wrapper '__le__' of JSONSchemaObject object at 0x7ff4fc3a2940>),\n",
       " ('__lt__',\n",
       "  <method-wrapper '__lt__' of JSONSchemaObject object at 0x7ff4fc3a2940>),\n",
       " ('__module__', '__main__'),\n",
       " ('__ne__',\n",
       "  <method-wrapper '__ne__' of JSONSchemaObject object at 0x7ff4fc3a2940>),\n",
       " ('__new__', <function object.__new__(*args, **kwargs)>),\n",
       " ('__reduce__', <function JSONSchemaObject.__reduce__()>),\n",
       " ('__reduce_ex__', <function JSONSchemaObject.__reduce_ex__(protocol, /)>),\n",
       " ('__repr__',\n",
       "  <method-wrapper '__repr__' of JSONSchemaObject object at 0x7ff4fc3a2940>),\n",
       " ('__setattr__',\n",
       "  <bound method JSONSchemaObject.__setattr__ of <__main__.JSONSchemaObject object at 0x7ff4fc3a2940>>),\n",
       " ('__sizeof__', <function JSONSchemaObject.__sizeof__()>),\n",
       " ('__str__',\n",
       "  <method-wrapper '__str__' of JSONSchemaObject object at 0x7ff4fc3a2940>),\n",
       " ('__subclasshook__', <function JSONSchemaObject.__subclasshook__>),\n",
       " ('__weakref__', None),\n",
       " ('schema', {}),\n",
       " ('validate', <function validate(data)>)]"
      ]
     },
     "execution_count": 9,
     "metadata": {},
     "output_type": "execute_result"
    }
   ],
   "source": [
    "import inspect\n",
    "\n",
    "inspect.getmembers(JSONSchemaObject)\n",
    "\n",
    "inspect.getmembers(JSONSchemaObject())"
   ]
  },
  {
   "cell_type": "code",
   "execution_count": null,
   "metadata": {},
   "outputs": [],
   "source": []
  }
 ],
 "metadata": {
  "kernelspec": {
   "display_name": "Python 3",
   "language": "python",
   "name": "python3"
  },
  "language_info": {
   "codemirror_mode": {
    "name": "ipython",
    "version": 3
   },
   "file_extension": ".py",
   "mimetype": "text/x-python",
   "name": "python",
   "nbconvert_exporter": "python",
   "pygments_lexer": "ipython3",
   "version": "3.8.5"
  }
 },
 "nbformat": 4,
 "nbformat_minor": 4
}
