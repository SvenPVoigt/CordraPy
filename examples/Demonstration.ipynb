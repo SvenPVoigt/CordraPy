{
 "cells": [
  {
   "cell_type": "code",
   "execution_count": 1,
   "metadata": {},
   "outputs": [],
   "source": [
    "from cordra import CordraClient, CordraObject"
   ]
  },
  {
   "cell_type": "code",
   "execution_count": 2,
   "metadata": {},
   "outputs": [
    {
     "name": "stdout",
     "output_type": "stream",
     "text": [
      "Connection via CordraPy to https://localhost:8443/\n"
     ]
    }
   ],
   "source": [
    "repository = CordraClient(host=\"https://localhost:8443/\", credentials_file=\"../secretlogin.json\", verify=False)\n",
    "print(repository)\n",
    "\n",
    "test = CordraObject(type=\"Document\", hello=\"world\")\n",
    "test.hello\n",
    "test.extra = \"extra\"\n",
    "test2 = CordraObject(type=\"Document\", id=\"doi:uuvv12\")\n",
    "test.predecesor = test2 # CordraObject"
   ]
  },
  {
   "cell_type": "code",
   "execution_count": 3,
   "metadata": {},
   "outputs": [
    {
     "name": "stdout",
     "output_type": "stream",
     "text": [
      "{\n",
      "  \"type\": \"Document\",\n",
      "  \"id\": null,\n",
      "  \"related\": null,\n",
      "  \"hello\": \"world\",\n",
      "  \"extra\": \"extra\",\n",
      "  \"predecesor\": {\n",
      "    \"type\": \"Document\",\n",
      "    \"id\": \"doi:uuvv12\",\n",
      "    \"related\": null\n",
      "  }\n",
      "}\n"
     ]
    }
   ],
   "source": [
    "print( test.json(indent=2) )"
   ]
  },
  {
   "cell_type": "code",
   "execution_count": 4,
   "metadata": {},
   "outputs": [],
   "source": [
    "object_id = repository.create(test)[\"id\"]"
   ]
  },
  {
   "cell_type": "code",
   "execution_count": 5,
   "metadata": {},
   "outputs": [
    {
     "name": "stdout",
     "output_type": "stream",
     "text": [
      "{\n",
      "  \"type\": \"Document\",\n",
      "  \"id\": \"test/90bf71fe9bc6f38663dc\",\n",
      "  \"related\": null,\n",
      "  \"hello\": \"world\",\n",
      "  \"extra\": \"extra\",\n",
      "  \"predecesor\": {\n",
      "    \"type\": \"Document\",\n",
      "    \"id\": \"doi:uuvv12\"\n",
      "  }\n",
      "}\n"
     ]
    }
   ],
   "source": [
    "print( repository.read( object_id ).json(indent=2) )"
   ]
  },
  {
   "cell_type": "code",
   "execution_count": 6,
   "metadata": {},
   "outputs": [
    {
     "data": {
      "text/plain": [
       "CordraObject(type='Document', id='doi:uuvv12', related=None)"
      ]
     },
     "execution_count": 6,
     "metadata": {},
     "output_type": "execute_result"
    }
   ],
   "source": [
    "test.predecesor"
   ]
  },
  {
   "cell_type": "code",
   "execution_count": 7,
   "metadata": {},
   "outputs": [
    {
     "name": "stdout",
     "output_type": "stream",
     "text": [
      "{\n",
      "  \"type\": \"Document\",\n",
      "  \"id\": null,\n",
      "  \"related\": null,\n",
      "  \"hello\": \"world\",\n",
      "  \"extra\": \"extra\",\n",
      "  \"predecesor\": {\n",
      "    \"type\": \"Document\",\n",
      "    \"id\": \"doi:uuvv12\",\n",
      "    \"related\": null\n",
      "  }\n",
      "}\n"
     ]
    }
   ],
   "source": [
    "print( test.json(indent=2) )"
   ]
  },
  {
   "cell_type": "code",
   "execution_count": null,
   "metadata": {},
   "outputs": [],
   "source": []
  }
 ],
 "metadata": {
  "kernelspec": {
   "display_name": "Python 3",
   "language": "python",
   "name": "python3"
  },
  "language_info": {
   "codemirror_mode": {
    "name": "ipython",
    "version": 3
   },
   "file_extension": ".py",
   "mimetype": "text/x-python",
   "name": "python",
   "nbconvert_exporter": "python",
   "pygments_lexer": "ipython3",
   "version": "3.8.5"
  }
 },
 "nbformat": 4,
 "nbformat_minor": 4
}
